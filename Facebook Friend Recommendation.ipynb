{
  "nbformat": 4,
  "nbformat_minor": 5,
  "metadata": {
    "kernelspec": {
      "display_name": "Python 3",
      "language": "python",
      "name": "python3"
    },
    "language_info": {
      "codemirror_mode": {
        "name": "ipython",
        "version": 3
      },
      "file_extension": ".py",
      "mimetype": "text/x-python",
      "name": "python",
      "nbconvert_exporter": "python",
      "pygments_lexer": "ipython3",
      "version": "3.7.10"
    },
    "colab": {
      "name": "Assignment_17.ipynb",
      "provenance": [],
      "collapsed_sections": []
    }
  },
  "cells": [
    {
      "cell_type": "code",
      "metadata": {
        "id": "fee1e529",
        "outputId": "e142dbb6-e43d-4372-c9f6-2919bf15bfdc"
      },
      "source": [
        "!wget --header=\"Host: storage.googleapis.com\" --header=\"User-Agent: Mozilla/5.0 (Windows NT 10.0; Win64; x64) AppleWebKit/537.36 (KHTML, like Gecko) Chrome/90.0.4430.93 Safari/537.36\" --header=\"Accept: text/html,application/xhtml+xml,application/xml;q=0.9,image/avif,image/webp,image/apng,*/*;q=0.8,application/signed-exchange;v=b3;q=0.9\" --header=\"Accept-Language: en-US,en;q=0.9\" --header=\"Referer: https://www.kaggle.com/\" \"https://storage.googleapis.com/kagglesdsdata/competitions/2947/30583/train.7z?GoogleAccessId=web-data@kaggle-161607.iam.gserviceaccount.com&Expires=1620498197&Signature=QodB%2F5ktTC3u3apkSaHJxalp%2FeGeykiwylnO3qIOS1bpHLveXqxpIysufEATmNoriTyAiEb4hNoCU4nsNQfb%2FQXQyNZ2%2BULd%2BizjzhzUiFO4RUhgRdcLrY6MedGqhTz9jChDHGRqs0NDQkuOPPFRuAbM2wfaYjtqMcPn67JhDfYpywAa5jNISV2UwJa3LiiCBiY7g1pKKTf%2FjAx3T0TTlNotckzp5NTEB8eNXsJnNIf6hir4OgSQUZ4rU5qVd3rC2rtCOUvvlxVH2AAE6HdVs0Rsj6RtMbiaoQIApikW6tot9W8T%2BoZo925cG64SUbkakZrDGUGCfL8lfznFrlK4hA%3D%3D&response-content-disposition=attachment%3B+filename%3Dtrain.7z\" -c -O 'train.7z'"
      ],
      "id": "fee1e529",
      "execution_count": null,
      "outputs": [
        {
          "output_type": "stream",
          "text": [
            "--2021-05-05 18:24:12--  https://storage.googleapis.com/kagglesdsdata/competitions/2947/30583/train.7z?GoogleAccessId=web-data@kaggle-161607.iam.gserviceaccount.com&Expires=1620498197&Signature=QodB%2F5ktTC3u3apkSaHJxalp%2FeGeykiwylnO3qIOS1bpHLveXqxpIysufEATmNoriTyAiEb4hNoCU4nsNQfb%2FQXQyNZ2%2BULd%2BizjzhzUiFO4RUhgRdcLrY6MedGqhTz9jChDHGRqs0NDQkuOPPFRuAbM2wfaYjtqMcPn67JhDfYpywAa5jNISV2UwJa3LiiCBiY7g1pKKTf%2FjAx3T0TTlNotckzp5NTEB8eNXsJnNIf6hir4OgSQUZ4rU5qVd3rC2rtCOUvvlxVH2AAE6HdVs0Rsj6RtMbiaoQIApikW6tot9W8T%2BoZo925cG64SUbkakZrDGUGCfL8lfznFrlK4hA%3D%3D&response-content-disposition=attachment%3B+filename%3Dtrain.7z\n",
            "Resolving storage.googleapis.com (storage.googleapis.com)... 74.125.141.128, 173.194.210.128, 173.194.213.128, ...\n",
            "Connecting to storage.googleapis.com (storage.googleapis.com)|74.125.141.128|:443... connected.\n",
            "HTTP request sent, awaiting response... 200 OK\n",
            "Length: 33622980 (32M) [application/x-7z-compressed]\n",
            "Saving to: ‘train.7z’\n",
            "\n",
            "train.7z            100%[===================>]  32.06M  79.9MB/s    in 0.4s    \n",
            "\n",
            "2021-05-05 18:24:12 (79.9 MB/s) - ‘train.7z’ saved [33622980/33622980]\n",
            "\n"
          ],
          "name": "stdout"
        }
      ]
    },
    {
      "cell_type": "code",
      "metadata": {
        "id": "2635e3c2",
        "outputId": "57446299-1872-44ea-a299-3332792b8f6c"
      },
      "source": [
        "pip install py7zr"
      ],
      "id": "2635e3c2",
      "execution_count": null,
      "outputs": [
        {
          "output_type": "stream",
          "text": [
            "Collecting py7zr\n",
            "  Downloading py7zr-0.16.0-py3-none-any.whl (65 kB)\n",
            "\u001b[K     |████████████████████████████████| 65 kB 2.3 MB/s eta 0:00:011\n",
            "\u001b[?25hCollecting pyzstd<0.15.0,>=0.14.4\n",
            "  Downloading pyzstd-0.14.4-cp37-cp37m-manylinux2014_x86_64.whl (2.2 MB)\n",
            "\u001b[K     |████████████████████████████████| 2.2 MB 5.2 MB/s eta 0:00:01\n",
            "\u001b[?25hCollecting multivolumefile>=0.2.3\n",
            "  Downloading multivolumefile-0.2.3-py3-none-any.whl (17 kB)\n",
            "Requirement already satisfied: importlib-metadata in /opt/conda/lib/python3.7/site-packages (from py7zr) (4.0.1)\n",
            "Collecting texttable\n",
            "  Downloading texttable-1.6.3-py2.py3-none-any.whl (10 kB)\n",
            "Collecting pycryptodomex>=3.6.6\n",
            "  Downloading pycryptodomex-3.10.1-cp35-abi3-manylinux2010_x86_64.whl (1.9 MB)\n",
            "\u001b[K     |████████████████████████████████| 1.9 MB 30.7 MB/s eta 0:00:01\n",
            "\u001b[?25hCollecting pyppmd>=0.14.0\n",
            "  Downloading pyppmd-0.15.0-cp37-cp37m-manylinux2014_x86_64.whl (121 kB)\n",
            "\u001b[K     |████████████████████████████████| 121 kB 52.8 MB/s eta 0:00:01\n",
            "\u001b[?25hCollecting bcj-cffi<0.6.0,>=0.5.1\n",
            "  Downloading bcj_cffi-0.5.1-cp37-cp37m-manylinux2014_x86_64.whl (36 kB)\n",
            "Collecting brotli>=1.0.9\n",
            "  Downloading Brotli-1.0.9-cp37-cp37m-manylinux1_x86_64.whl (357 kB)\n",
            "\u001b[K     |████████████████████████████████| 357 kB 48.3 MB/s eta 0:00:01\n",
            "\u001b[?25hRequirement already satisfied: cffi>=1.14.0 in /opt/conda/lib/python3.7/site-packages (from bcj-cffi<0.6.0,>=0.5.1->py7zr) (1.14.5)\n",
            "Requirement already satisfied: pycparser in /opt/conda/lib/python3.7/site-packages (from cffi>=1.14.0->bcj-cffi<0.6.0,>=0.5.1->py7zr) (2.20)\n",
            "Requirement already satisfied: typing-extensions>=3.6.4 in /opt/conda/lib/python3.7/site-packages (from importlib-metadata->py7zr) (3.7.4.3)\n",
            "Requirement already satisfied: zipp>=0.5 in /opt/conda/lib/python3.7/site-packages (from importlib-metadata->py7zr) (3.4.1)\n",
            "Installing collected packages: texttable, pyzstd, pyppmd, pycryptodomex, multivolumefile, brotli, bcj-cffi, py7zr\n",
            "Successfully installed bcj-cffi-0.5.1 brotli-1.0.9 multivolumefile-0.2.3 py7zr-0.16.0 pycryptodomex-3.10.1 pyppmd-0.15.0 pyzstd-0.14.4 texttable-1.6.3\n",
            "Note: you may need to restart the kernel to use updated packages.\n"
          ],
          "name": "stdout"
        }
      ]
    },
    {
      "cell_type": "code",
      "metadata": {
        "id": "94a17226"
      },
      "source": [
        "import py7zr\n",
        "def unzip(filename):\n",
        "    a=py7zr.SevenZipFile(filename,mode='r')\n",
        "    py7zr.SevenZipFile.extractall(a)\n",
        "    print(\"Successfully Unzipped {}\".format(filename))"
      ],
      "id": "94a17226",
      "execution_count": null,
      "outputs": []
    },
    {
      "cell_type": "code",
      "metadata": {
        "id": "28b0304b",
        "outputId": "2504e95a-c4ea-4e97-bf54-1270e83603ba"
      },
      "source": [
        "unzip('train.7z')"
      ],
      "id": "28b0304b",
      "execution_count": null,
      "outputs": [
        {
          "output_type": "stream",
          "text": [
            "Successfully Unzipped train.7z\n"
          ],
          "name": "stdout"
        }
      ]
    },
    {
      "cell_type": "code",
      "metadata": {
        "id": "82ecdc4f",
        "outputId": "47f6ed21-70a5-48d0-db05-79501a2c0dd5"
      },
      "source": [
        "pip install tables"
      ],
      "id": "82ecdc4f",
      "execution_count": null,
      "outputs": [
        {
          "output_type": "stream",
          "text": [
            "Collecting tables\n",
            "  Downloading tables-3.6.1-cp37-cp37m-manylinux1_x86_64.whl (4.3 MB)\n",
            "\u001b[K     |████████████████████████████████| 4.3 MB 4.8 MB/s eta 0:00:01     |████████████████████████████████| 4.3 MB 4.8 MB/s eta 0:00:01\n",
            "\u001b[?25hRequirement already satisfied: numpy>=1.9.3 in /opt/conda/lib/python3.7/site-packages (from tables) (1.19.5)\n",
            "Collecting numexpr>=2.6.2\n",
            "  Downloading numexpr-2.7.3-cp37-cp37m-manylinux2010_x86_64.whl (471 kB)\n",
            "\u001b[K     |████████████████████████████████| 471 kB 37.4 MB/s eta 0:00:01\n",
            "\u001b[?25hInstalling collected packages: numexpr, tables\n",
            "Successfully installed numexpr-2.7.3 tables-3.6.1\n",
            "Note: you may need to restart the kernel to use updated packages.\n"
          ],
          "name": "stdout"
        }
      ]
    },
    {
      "cell_type": "markdown",
      "metadata": {
        "id": "sa5gkTh5kD23"
      },
      "source": [
        "###Importing Requisite Libraries"
      ],
      "id": "sa5gkTh5kD23"
    },
    {
      "cell_type": "code",
      "metadata": {
        "id": "e9da6034"
      },
      "source": [
        "import warnings\n",
        "warnings.filterwarnings('ignore')\n",
        "import os\n",
        "import csv\n",
        "import math\n",
        "import pickle\n",
        "import random\n",
        "import pandas as pd\n",
        "import numpy as np\n",
        "import seaborn as sns\n",
        "import networkx as nx\n",
        "from pandas import read_hdf\n",
        "import matplotlib.pyplot as plt\n",
        "from sklearn.metrics import f1_score\n",
        "from pandas import HDFStore,DataFrame\n",
        "from scipy.sparse.linalg import svds, eigs\n",
        "from sklearn.metrics import confusion_matrix\n",
        "from scipy.stats import randint as sp_randint\n",
        "from sklearn.model_selection import train_test_split\n",
        "from sklearn.model_selection import RandomizedSearchCV"
      ],
      "id": "e9da6034",
      "execution_count": null,
      "outputs": []
    },
    {
      "cell_type": "code",
      "metadata": {
        "id": "7653cacd",
        "outputId": "d0c86327-2d02-417d-8681-8060c1092533"
      },
      "source": [
        "dir= os.getcwd()\n",
        "print(dir)"
      ],
      "id": "7653cacd",
      "execution_count": null,
      "outputs": [
        {
          "output_type": "stream",
          "text": [
            "/home/satya_anuragh\n"
          ],
          "name": "stdout"
        }
      ]
    },
    {
      "cell_type": "code",
      "metadata": {
        "id": "55f6bba9",
        "outputId": "b6699685-a19d-4c52-97dc-da8c397003d4"
      },
      "source": [
        "g=nx.read_edgelist(os.path.join(dir,'train_woheader.csv'),delimiter=',',create_using=nx.DiGraph(),nodetype=int)\n",
        "print(nx.info(g))"
      ],
      "id": "55f6bba9",
      "execution_count": null,
      "outputs": [
        {
          "output_type": "stream",
          "text": [
            "Name: \n",
            "Type: DiGraph\n",
            "Number of nodes: 1862220\n",
            "Number of edges: 9437519\n",
            "Average in degree:   5.0679\n",
            "Average out degree:   5.0679\n"
          ],
          "name": "stdout"
        }
      ]
    },
    {
      "cell_type": "markdown",
      "metadata": {
        "id": "WX1PLMdKkKka"
      },
      "source": [
        "##Exploratory Data Analysis"
      ],
      "id": "WX1PLMdKkKka"
    },
    {
      "cell_type": "code",
      "metadata": {
        "id": "410a1fa0",
        "outputId": "1e0866ce-e38b-4f2d-ac47-19b4d2ddaed0"
      },
      "source": [
        "print(\"The number of unique Persons: {}\".format(len(g.nodes())))"
      ],
      "id": "410a1fa0",
      "execution_count": null,
      "outputs": [
        {
          "output_type": "stream",
          "text": [
            "The number of unique Persons: 1862220\n"
          ],
          "name": "stdout"
        }
      ]
    },
    {
      "cell_type": "code",
      "metadata": {
        "id": "acdcf552",
        "outputId": "7321483e-c488-4614-bfee-cf0f1df80317"
      },
      "source": [
        "indegree_list= list(dict(g.in_degree()).values())\n",
        "indegree_list.sort()\n",
        "plt.figure(figsize=(10,6))\n",
        "plt.plot(indegree_list)\n",
        "plt.xlabel(\"Index Number\")\n",
        "plt.ylabel(\"Number of Followers\")\n",
        "plt.show()"
      ],
      "id": "acdcf552",
      "execution_count": null,
      "outputs": [
        {
          "output_type": "display_data",
          "data": {
            "image/png": "[encoded data removed]",
            "text/plain": [
              "<Figure size 720x432 with 1 Axes>"
            ]
          },
          "metadata": {
            "tags": [],
            "needs_background": "light"
          }
        }
      ]
    },
    {
      "cell_type": "code",
      "metadata": {
        "id": "8ff0da58",
        "outputId": "5bd68e41-38a5-4ae8-81ad-1fa5445b14fe"
      },
      "source": [
        "len(indegree_list)"
      ],
      "id": "8ff0da58",
      "execution_count": null,
      "outputs": [
        {
          "output_type": "execute_result",
          "data": {
            "text/plain": [
              "1862222"
            ]
          },
          "metadata": {
            "tags": []
          },
          "execution_count": 15
        }
      ]
    },
    {
      "cell_type": "code",
      "metadata": {
        "id": "0263d51f",
        "outputId": "b4cdd76c-92b8-4cf1-b67c-afc22d607071"
      },
      "source": [
        "plt.figure(figsize=(10,6))\n",
        "plt.plot(indegree_list[:int(0.9*len(indegree_list))])\n",
        "plt.xlabel(\"Index Number\")\n",
        "plt.ylabel(\"Number of Followers\")\n",
        "plt.title(\"90 Percentile of the Indegree List\")\n",
        "plt.show()"
      ],
      "id": "0263d51f",
      "execution_count": null,
      "outputs": [
        {
          "output_type": "display_data",
          "data": {
            "image/png": "[encoded data removed]",
            "text/plain": [
              "<Figure size 720x432 with 1 Axes>"
            ]
          },
          "metadata": {
            "tags": [],
            "needs_background": "light"
          }
        }
      ]
    },
    {
      "cell_type": "code",
      "metadata": {
        "id": "a7ff44f5",
        "outputId": "303644dc-b449-405c-cb0c-6599493131ba"
      },
      "source": [
        "plt.figure(figsize=(10,6))\n",
        "x=indegree_list[int(0.9*len(indegree_list)):]\n",
        "plt.plot(x)\n",
        "plt.xlabel(\"Index Number\")\n",
        "plt.ylabel(\"Number of Followers\")\n",
        "plt.title(\"Top Percentile of the Indegree List\")\n",
        "plt.show()"
      ],
      "id": "a7ff44f5",
      "execution_count": null,
      "outputs": [
        {
          "output_type": "display_data",
          "data": {
            "image/png": "[encoded data removed]",
            "text/plain": [
              "<Figure size 720x432 with 1 Axes>"
            ]
          },
          "metadata": {
            "tags": [],
            "needs_background": "light"
          }
        }
      ]
    },
    {
      "cell_type": "code",
      "metadata": {
        "id": "e51f6353",
        "outputId": "8576316a-acaf-4e50-f67b-03fd3483dd78"
      },
      "source": [
        "for i in range(11):\n",
        "    print(90+i,\"Percentile of the list: {}\".format(np.percentile(indegree_list,90+i)))"
      ],
      "id": "e51f6353",
      "execution_count": null,
      "outputs": [
        {
          "output_type": "stream",
          "text": [
            "90 Percentile of the list: 12.0\n",
            "91 Percentile of the list: 13.0\n",
            "92 Percentile of the list: 14.0\n",
            "93 Percentile of the list: 15.0\n",
            "94 Percentile of the list: 17.0\n",
            "95 Percentile of the list: 19.0\n",
            "96 Percentile of the list: 21.0\n",
            "97 Percentile of the list: 24.0\n",
            "98 Percentile of the list: 29.0\n",
            "99 Percentile of the list: 40.0\n",
            "100 Percentile of the list: 552.0\n"
          ],
          "name": "stdout"
        }
      ]
    },
    {
      "cell_type": "code",
      "metadata": {
        "id": "3a01c455",
        "outputId": "6a654ce2-283b-4550-f4bd-ee7ed6dd3e6b"
      },
      "source": [
        "for i in range(10,110,10):\n",
        "    print(99+(i/100),\"Percentile of the list: {}\".format(np.percentile(indegree_list,99+(i/100))))"
      ],
      "id": "3a01c455",
      "execution_count": null,
      "outputs": [
        {
          "output_type": "stream",
          "text": [
            "99.1 Percentile of the list: 42.0\n",
            "99.2 Percentile of the list: 44.0\n",
            "99.3 Percentile of the list: 47.0\n",
            "99.4 Percentile of the list: 50.0\n",
            "99.5 Percentile of the list: 55.0\n",
            "99.6 Percentile of the list: 61.0\n",
            "99.7 Percentile of the list: 70.0\n",
            "99.8 Percentile of the list: 84.0\n",
            "99.9 Percentile of the list: 112.0\n",
            "100.0 Percentile of the list: 552.0\n"
          ],
          "name": "stdout"
        }
      ]
    },
    {
      "cell_type": "code",
      "metadata": {
        "id": "6e542e60",
        "outputId": "e9e9b33f-7657-4c8c-9cfc-77d4e5f3adc4"
      },
      "source": [
        "plt.figure(figsize=(10,6))\n",
        "sns.distplot(indegree_list,color='#16A085')\n",
        "plt.xlabel('PDF of In-Degree')\n",
        "plt.show"
      ],
      "id": "6e542e60",
      "execution_count": null,
      "outputs": [
        {
          "output_type": "execute_result",
          "data": {
            "text/plain": [
              "<function matplotlib.pyplot.show(close=None, block=None)>"
            ]
          },
          "metadata": {
            "tags": []
          },
          "execution_count": 48
        },
        {
          "output_type": "display_data",
          "data": {
            "image/png": "[encoded data removed]",
            "text/plain": [
              "<Figure size 720x432 with 1 Axes>"
            ]
          },
          "metadata": {
            "tags": [],
            "needs_background": "light"
          }
        }
      ]
    },
    {
      "cell_type": "code",
      "metadata": {
        "id": "47997ed1",
        "outputId": "a9d46179-3b64-4a3b-c817-ad30b4bc7480"
      },
      "source": [
        "outdegree_list= list(dict(g.out_degree).values())\n",
        "outdegree_list.sort()\n",
        "plt.figure(figsize=(10,6))\n",
        "plt.plot(outdegree_list)\n",
        "plt.xlabel(\"Index Number\")\n",
        "plt.ylabel(\"Number of Ppl Followed\")\n",
        "plt.title(\"Distribution of the Number of Ppl followed by each Person\")\n",
        "plt.show()"
      ],
      "id": "47997ed1",
      "execution_count": null,
      "outputs": [
        {
          "output_type": "display_data",
          "data": {
            "image/png": "[encoded data removed]",
            "text/plain": [
              "<Figure size 720x432 with 1 Axes>"
            ]
          },
          "metadata": {
            "tags": [],
            "needs_background": "light"
          }
        }
      ]
    },
    {
      "cell_type": "code",
      "metadata": {
        "id": "1a9fc928",
        "outputId": "aaec0008-6810-4426-8a79-fd0f7e8c4c89"
      },
      "source": [
        "plt.figure(figsize=(10,6))\n",
        "plt.plot(outdegree_list[:int(0.9*len(outdegree_list))])\n",
        "plt.xlabel(\"Index Number\")\n",
        "plt.ylabel(\"Number of Ppl Followed\")\n",
        "plt.title(\"Number of Ppl followed by each Person in the 90 Percentile\")\n",
        "plt.show()"
      ],
      "id": "1a9fc928",
      "execution_count": null,
      "outputs": [
        {
          "output_type": "display_data",
          "data": {
            "image/png": "[encoded data removed]",
            "text/plain": [
              "<Figure size 720x432 with 1 Axes>"
            ]
          },
          "metadata": {
            "tags": [],
            "needs_background": "light"
          }
        }
      ]
    },
    {
      "cell_type": "code",
      "metadata": {
        "id": "6ce9452c",
        "outputId": "9d013583-f8d8-4647-98d9-923847c99db3"
      },
      "source": [
        "plt.figure(figsize=(10,6))\n",
        "plt.plot(outdegree_list[int(0.99*len(outdegree_list)):])\n",
        "plt.xlabel(\"Index Number\")\n",
        "plt.ylabel(\"Number of Ppl Followed\")\n",
        "plt.title(\"Number of Ppl followed by each Person in the top 1 Percentile\")\n",
        "plt.show()"
      ],
      "id": "6ce9452c",
      "execution_count": null,
      "outputs": [
        {
          "output_type": "display_data",
          "data": {
            "image/png": "[encoded data removed]",
            "text/plain": [
              "<Figure size 720x432 with 1 Axes>"
            ]
          },
          "metadata": {
            "tags": [],
            "needs_background": "light"
          }
        }
      ]
    },
    {
      "cell_type": "code",
      "metadata": {
        "id": "4411e8b5",
        "outputId": "6aeef64a-317b-4ea2-a5c9-4078a4296a3d"
      },
      "source": [
        "plt.figure(figsize=(10,6))\n",
        "sns.distplot(outdegree_list,color='#16A085')\n",
        "plt.xlabel('PDF of Out-Degree')\n",
        "plt.show"
      ],
      "id": "4411e8b5",
      "execution_count": null,
      "outputs": [
        {
          "output_type": "execute_result",
          "data": {
            "text/plain": [
              "<function matplotlib.pyplot.show(close=None, block=None)>"
            ]
          },
          "metadata": {
            "tags": []
          },
          "execution_count": 49
        },
        {
          "output_type": "display_data",
          "data": {
            "image/png": "[encoded data removed]",
            "text/plain": [
              "<Figure size 720x432 with 1 Axes>"
            ]
          },
          "metadata": {
            "tags": [],
            "needs_background": "light"
          }
        }
      ]
    },
    {
      "cell_type": "code",
      "metadata": {
        "id": "30b661b0",
        "outputId": "ba857962-735c-4db2-f5df-c8f2cb4c7bb2"
      },
      "source": [
        "n1=0\n",
        "for i in range(len(indegree_list)):\n",
        "    if indegree_list[i]==0:\n",
        "        n1=n1+1\n",
        "print(\"Number of people with zero followers:{} and the percentage is {}\".format(n1,(n1/len(indegree_list))*100))"
      ],
      "id": "30b661b0",
      "execution_count": null,
      "outputs": [
        {
          "output_type": "stream",
          "text": [
            "Number of people with zero followers:188044 and the percentage is 10.09782936728274\n"
          ],
          "name": "stdout"
        }
      ]
    },
    {
      "cell_type": "code",
      "metadata": {
        "id": "154e767e",
        "outputId": "4555435b-6462-406f-fc8c-ecfd1efbc92c"
      },
      "source": [
        "n2=0\n",
        "for i in range(len(outdegree_list)):\n",
        "    if outdegree_list[i]==0:\n",
        "        n2=n2+1\n",
        "print(\"Number of people who do not follow:{} and the percentage is {}\".format(n2,(n2/len(outdegree_list))*100))"
      ],
      "id": "154e767e",
      "execution_count": null,
      "outputs": [
        {
          "output_type": "stream",
          "text": [
            "Number of people who do not follow:274513 and the percentage is 14.741153310400158\n"
          ],
          "name": "stdout"
        }
      ]
    },
    {
      "cell_type": "code",
      "metadata": {
        "id": "18c6c94c",
        "outputId": "f33adbdf-3ada-45da-ac52-e1ba59cf4960"
      },
      "source": [
        "a= g.nodes()\n",
        "a=list(a)\n",
        "print(len(a))\n",
        "print(type(a))"
      ],
      "id": "18c6c94c",
      "execution_count": null,
      "outputs": [
        {
          "output_type": "stream",
          "text": [
            "1862222\n",
            "<class 'list'>\n"
          ],
          "name": "stdout"
        }
      ]
    },
    {
      "cell_type": "code",
      "metadata": {
        "id": "54b52563",
        "outputId": "805547e0-3fb8-4f86-e05f-0d4d41b7ce12"
      },
      "source": [
        "n=0\n",
        "for j in g.nodes():\n",
        "    if len(list(g.predecessors(j)))==0 and len(list(g.successors(j)))==0:\n",
        "        n=n+1\n",
        "print(\"Number of People with both zero followers and do not follow any one {}\".format(n))"
      ],
      "id": "54b52563",
      "execution_count": null,
      "outputs": [
        {
          "output_type": "stream",
          "text": [
            "Number of People with both zero followers and do not follow any one 0\n"
          ],
          "name": "stdout"
        }
      ]
    },
    {
      "cell_type": "code",
      "metadata": {
        "id": "3a43fc34"
      },
      "source": [
        "from collections import Counter\n",
        "dict_in= dict(g.in_degree())\n",
        "dict_out= dict(g.out_degree())\n",
        "d= Counter(dict_in)+Counter(dict_out)\n",
        "in_out_degree= np.array(list(d.values()))"
      ],
      "id": "3a43fc34",
      "execution_count": null,
      "outputs": []
    },
    {
      "cell_type": "code",
      "metadata": {
        "id": "e927b91a",
        "outputId": "31782c91-3e8e-48a8-9e2b-af5887534bec"
      },
      "source": [
        "in_out_degree_sort= sorted(in_out_degree)\n",
        "plt.figure(figsize=(10,6))\n",
        "plt.plot(in_out_degree_sort)\n",
        "plt.xlabel(\"Index No\")\n",
        "plt.ylabel(\"No.of Followers and being Followed\")\n",
        "plt.show()"
      ],
      "id": "e927b91a",
      "execution_count": null,
      "outputs": [
        {
          "output_type": "display_data",
          "data": {
            "image/png": "[encoded data removed]",
            "text/plain": [
              "<Figure size 720x432 with 1 Axes>"
            ]
          },
          "metadata": {
            "tags": [],
            "needs_background": "light"
          }
        }
      ]
    },
    {
      "cell_type": "code",
      "metadata": {
        "id": "0cb6f871",
        "outputId": "9170f732-03d8-45b6-eff9-704a7721aada"
      },
      "source": [
        "minimum= min(in_out_degree)\n",
        "maximum= max(in_out_degree)\n",
        "print(\"Minimun number of followers and followed:{}\".format(minimum))\n",
        "print(\"Maximun number of followers and followed:{}\".format(maximum))\n",
        "\n",
        "m1=0\n",
        "m2=0\n",
        "for i in in_out_degree:\n",
        "    if i== minimum:\n",
        "        m1=m1+1\n",
        "    if i== maximum:\n",
        "        m2=m2+1\n",
        "print(\"Number of users with minimum number of Followers or being followed:{}\".format(m1))\n",
        "print(\"Number of users with maximum number of Followers or being followed:{}\".format(m2))"
      ],
      "id": "0cb6f871",
      "execution_count": null,
      "outputs": [
        {
          "output_type": "stream",
          "text": [
            "Minimun number of followers and followed:1\n",
            "Maximun number of followers and followed:1579\n",
            "Number of users with minimum number of Followers or being followed:334293\n",
            "Number of users with maximum number of Followers or being followed:1\n"
          ],
          "name": "stdout"
        }
      ]
    },
    {
      "cell_type": "code",
      "metadata": {
        "id": "bd08b333",
        "outputId": "2907b805-0012-47e1-f529-48e6ba4b131e"
      },
      "source": [
        "weak_comp= list(nx.weakly_connected_components(g))\n",
        "print(len(weak_comp))"
      ],
      "id": "bd08b333",
      "execution_count": null,
      "outputs": [
        {
          "output_type": "stream",
          "text": [
            "45559\n"
          ],
          "name": "stdout"
        }
      ]
    },
    {
      "cell_type": "code",
      "metadata": {
        "id": "ee157873",
        "outputId": "8bbd551b-355e-4000-d8b9-482da4d2515f"
      },
      "source": [
        "count=0\n",
        "for w in weak_comp:\n",
        "    if len(w)==2:\n",
        "        count=count+1\n",
        "print(count)"
      ],
      "id": "ee157873",
      "execution_count": null,
      "outputs": [
        {
          "output_type": "stream",
          "text": [
            "32196\n"
          ],
          "name": "stdout"
        }
      ]
    },
    {
      "cell_type": "code",
      "metadata": {
        "id": "a118d342",
        "outputId": "83dc8c72-f011-4b54-ee5f-e2f74f711ec3"
      },
      "source": [
        "r = csv.reader(open('/home/satya_anuragh/train_woheader.csv','r'))\n",
        "print(type(r))"
      ],
      "id": "a118d342",
      "execution_count": null,
      "outputs": [
        {
          "output_type": "stream",
          "text": [
            "<class '_csv.reader'>\n"
          ],
          "name": "stdout"
        }
      ]
    },
    {
      "cell_type": "markdown",
      "metadata": {
        "id": "OOfvqkeEkb5m"
      },
      "source": [
        " ## Generating some edges which are not present in graph for supervised learning"
      ],
      "id": "OOfvqkeEkb5m"
    },
    {
      "cell_type": "code",
      "metadata": {
        "id": "c60b10a8",
        "outputId": "a172f73b-61f3-497d-d371-544bef31cbdf"
      },
      "source": [
        "%%time\n",
        "###generating bad edges from given graph\n",
        "import random\n",
        "r = csv.reader(open('/home/satya_anuragh/train_woheader.csv','r'))\n",
        "edges = dict()\n",
        "for edge in r:\n",
        "    edges[(edge[0], edge[1])] = 1\n",
        "        \n",
        "        \n",
        "missing_edges = set([])\n",
        "while (len(missing_edges)<9437519):\n",
        "    a=random.randint(1, 1862220)\n",
        "    b=random.randint(1, 1862220)\n",
        "    tmp = edges.get((a,b),-1)\n",
        "    if tmp == -1 and a!=b:\n",
        "        try:\n",
        "            if nx.shortest_path_length(g,source=a,target=b) > 2: \n",
        "                missing_edges.add((a,b))\n",
        "            else:\n",
        "                continue  \n",
        "        except:  \n",
        "            missing_edges.add((a,b))              \n",
        "    else:\n",
        "        continue\n",
        "pickle.dump(missing_edges,open('/home/satya_anuragh/missing_edges_final.p','wb'))"
      ],
      "id": "c60b10a8",
      "execution_count": null,
      "outputs": [
        {
          "output_type": "stream",
          "text": [
            "CPU times: user 1min 28s, sys: 1.97 s, total: 1min 30s\n",
            "Wall time: 1min 31s\n"
          ],
          "name": "stdout"
        }
      ]
    },
    {
      "cell_type": "code",
      "metadata": {
        "id": "40054a7b"
      },
      "source": [
        "with open('/home/satya_anuragh/missing_edges_final.p','rb') as me:\n",
        "    missing_edges= pickle.load(me) "
      ],
      "id": "40054a7b",
      "execution_count": null,
      "outputs": []
    },
    {
      "cell_type": "markdown",
      "metadata": {
        "id": "aKRdlbrXkimb"
      },
      "source": [
        "## Training and Test data split:"
      ],
      "id": "aKRdlbrXkimb"
    },
    {
      "cell_type": "code",
      "metadata": {
        "id": "dabe5ab8",
        "outputId": "5efeb730-2d4c-43d5-d37d-33e6c03c32cf"
      },
      "source": [
        "df_pos= pd.read_csv('/home/satya_anuragh/train_pos_after_eda.csv')\n",
        "df_neg= pd.DataFrame(list(missing_edges),columns= [\"source_node\",\"destination_node\"])\n",
        "\n",
        "print(\"Number of Nodes with edges= {}\".format(df_pos.shape[0]))\n",
        "print(\"Number of Nodes without edges= {}\".format(df_neg.shape[0]))\n",
        "print(\"==\"*60)\n",
        "\n",
        "train_x_pos,test_x_pos,train_y_pos,test_y_pos= train_test_split(df_pos,np.ones(len(df_pos)),test_size=0.2,random_state=20)\n",
        "train_x_neg,test_x_neg,train_y_neg,test_y_neg= train_test_split(df_neg,np.ones(len(df_neg)),test_size=0.2,random_state=20)\n",
        "\n",
        "print(\"Number of Nodes in the Train Data graph with edges,Train_x:\",train_x_pos.shape[0],\"Train_y:\",train_y_pos.shape[0])\n",
        "print(\"Number of Nodes in the Test Data graph with edges,Test_x:\",test_x_pos.shape[0],\"Test_y:\",test_y_pos.shape[0])\n",
        "print(\"==\"*60)\n",
        "\n",
        "print(\"Number of Nodes in the Train Data graph without edges,Train_x:\",train_x_neg.shape[0],\"Train_y:\",train_y_neg.shape[0])\n",
        "print(\"Number of Nodes in the Test Data graph without edges,Test_x:\",test_x_neg.shape[0],\"Test_y:\",test_y_neg.shape[0])\n",
        "\n",
        "train_x_pos.to_csv('/home/satya_anuragh/train_x_pos.csv',header=False, index=False)\n",
        "train_y_pos.to_csv('/home/satya_anuragh/train_y_pos.csv',header=False, index=False)\n",
        "train_x_neg.to_csv('/home/satya_anuragh/train_x_neg.csv',header=False, index=False)\n",
        "train_y_neg.to_csv('/home/satya_anuragh/train_y_neg.csv',header=False, index=False)\n",
        "\n",
        "test_x_pos.to_csv('/home/satya_anuragh/test_x_pos.csv',header=False, index=False)\n",
        "test_y_pos.to_csv('/home/satya_anuragh/test_y_pos.csv',header=False, index=False)\n",
        "test_x_neg.to_csv('/home/satya_anuragh/test_x_neg.csv',header=False, index=False)\n",
        "test_y_neg.to_csv('/home/satya_anuragh/test_y_neg.csv',header=False, index=False)"
      ],
      "id": "dabe5ab8",
      "execution_count": null,
      "outputs": [
        {
          "output_type": "stream",
          "text": [
            "Number of Nodes with edges= 7550014\n",
            "Number of Nodes without edges= 9437519\n",
            "========================================================================================================================\n",
            "Number of Nodes in the Train Data graph with edges,Train_x: 6040011 Train_y: 6040011\n",
            "Number of Nodes in the Test Data graph with edges,Test_x: 1510003 Test_y: 1510003\n",
            "========================================================================================================================\n",
            "Number of Nodes in the Train Data graph without edges,Train_x: 7550015 Train_y: 7550015\n",
            "Number of Nodes in the Test Data graph without edges,Test_x: 1887504 Test_y: 1887504\n"
          ],
          "name": "stdout"
        }
      ]
    },
    {
      "cell_type": "code",
      "metadata": {
        "id": "e1f51ccc",
        "outputId": "a3fc83b9-d274-463b-d6c5-5b4f7bba97f9"
      },
      "source": [
        "train_graph= nx.read_edgelist('/home/satya_anuragh/train_x_pos.csv',delimiter=',',create_using= nx.DiGraph(),nodetype=int)\n",
        "test_graph= nx.read_edgelist('/home/satya_anuragh/test_x_pos.csv',delimiter=',',create_using= nx.DiGraph(),nodetype=int)\n",
        "\n",
        "print(nx.info(train_graph))\n",
        "print(nx.info(test_graph))\n",
        "\n",
        "train_nodes_pos= set(train_graph.nodes())\n",
        "test_nodes_pos= set(test_graph.nodes())\n",
        "\n",
        "tr_te_com= len(train_nodes_pos.intersection(test_nodes_pos))\n",
        "tr_in_te_out= len(train_nodes_pos-test_nodes_pos)\n",
        "tr_out_te_in= len(test_nodes_pos-train_nodes_pos)\n",
        "\n",
        "print(\"Number of Nodes common between train and test nodes with edges:\",tr_te_com)\n",
        "print(\"Number of Nodes in train but not in test:\",tr_in_te_out)\n",
        "print(\"Number of Nodes in train but not in test:\",tr_out_te_in)\n",
        "print(\"Percentage of the nodes present in Test Data but not present in the Train Data:\",(tr_out_te_in/len(test_nodes_pos))*100)"
      ],
      "id": "e1f51ccc",
      "execution_count": null,
      "outputs": [
        {
          "output_type": "stream",
          "text": [
            "Name: \n",
            "Type: DiGraph\n",
            "Number of nodes: 1688500\n",
            "Number of edges: 6040011\n",
            "Average in degree:   3.5771\n",
            "Average out degree:   3.5771\n",
            "Name: \n",
            "Type: DiGraph\n",
            "Number of nodes: 1039661\n",
            "Number of edges: 1510003\n",
            "Average in degree:   1.4524\n",
            "Average out degree:   1.4524\n",
            "Number of Nodes common between train and test nodes with edges: 947439\n",
            "Number of Nodes in train but not in test: 741061\n",
            "Number of Nodes in train but not in test: 92222\n",
            "Percentage of the nodes present in Test Data but not present in the Train Data: 8.870391406429595\n"
          ],
          "name": "stdout"
        }
      ]
    },
    {
      "cell_type": "code",
      "metadata": {
        "id": "7bdfa2c7",
        "outputId": "53afed19-0604-4a03-851d-80f5b066218a"
      },
      "source": [
        "train_x_pos= pd.read_csv('/home/satya_anuragh/train_x_pos.csv', names=[\"source_nodes\",\"destination_nodes\"])\n",
        "test_x_pos= pd.read_csv('/home/satya_anuragh/test_x_pos.csv', names=[\"source_nodes\",\"destination_nodes\"])\n",
        "train_x_neg= pd.read_csv('/home/satya_anuragh/train_x_neg.csv', names=[\"source_nodes\",\"destination_nodes\"])\n",
        "test_x_neg= pd.read_csv('/home/satya_anuragh/test_x_neg.csv', names=[\"source_nodes\",\"destination_nodes\"])\n",
        "\n",
        "train_y_pos= np.ones(train_x_pos.shape[0])\n",
        "train_y_neg= np.zeros(train_x_neg.shape[0])\n",
        "test_y_pos= np.ones(test_x_pos.shape[0])\n",
        "test_y_neg= np.zeros(test_x_neg.shape[0])\n",
        "\n",
        "\n",
        "print(\"==\"*60)\n",
        "print(\"Number of nodes in the Train Dataset with Edges:\",train_x_pos.shape[0])\n",
        "print(\"Number of nodes in the Train Dataset without Edges:\",train_x_neg.shape[0])\n",
        "print(\"Number of nodes in the Test Dataset with Edges:\",test_x_pos.shape[0])\n",
        "print(\"NUmber of nodes in the Test Dataset without Edges:\",test_x_neg.shape[0])\n",
        "\n",
        "print(\"==\"*60)\n",
        "\n",
        "train_x= train_x_pos.append(train_x_neg, ignore_index=True)\n",
        "train_y= np.concatenate((train_y_pos,train_y_neg))\n",
        "test_x= test_x_pos.append(test_x_neg, ignore_index=True)\n",
        "test_y= np.concatenate((test_y_pos,test_y_neg))\n",
        "\n",
        "train_x.to_csv('/home/satya_anuragh/train_x.csv',header=False, index=False)\n",
        "pd.DataFrame(train_y.astype(int)).to_csv('/home/satya_anuragh/train_y.csv',header=False, index=False)\n",
        "test_x.to_csv('/home/satya_anuragh/test_x.csv',header=False, index=False)\n",
        "pd.DataFrame(test_y.astype(int)).to_csv('/home/satya_anuragh/test_y.csv',header=False, index=False)"
      ],
      "id": "7bdfa2c7",
      "execution_count": null,
      "outputs": [
        {
          "output_type": "stream",
          "text": [
            "========================================================================================================================\n",
            "Number of nodes in the Train Dataset with Edges: 6040011\n",
            "Number of nodes in the Train Dataset without Edges: 7550015\n",
            "Number of nodes in the Test Dataset with Edges: 1510003\n",
            "NUmber of nodes in the Test Dataset without Edges: 1887504\n",
            "========================================================================================================================\n"
          ],
          "name": "stdout"
        }
      ]
    },
    {
      "cell_type": "code",
      "metadata": {
        "id": "9832bce8",
        "outputId": "6cd97e82-91b9-44e1-bf17-5b0a19962dee"
      },
      "source": [
        "print(\"Dimensions of Train_x dataset\",train_x.shape)\n",
        "print(\"Dimensions of Train_y dataset\",train_y.shape)\n",
        "print(\"Dimensions of Test_x dataset\",test_x.shape)\n",
        "print(\"Dimensions of Test_y dataset\",test_y.shape)"
      ],
      "id": "9832bce8",
      "execution_count": null,
      "outputs": [
        {
          "output_type": "stream",
          "text": [
            "Dimensions of Train_x dataset (15100030, 2)\n",
            "Dimensions of Train_y dataset (15100030,)\n",
            "Dimensions of Test_x dataset (3775008, 2)\n",
            "Dimensions of Test_y dataset (3775008,)\n"
          ],
          "name": "stdout"
        }
      ]
    },
    {
      "cell_type": "markdown",
      "metadata": {
        "id": "lgg_VDwCkpan"
      },
      "source": [
        "## Featurization"
      ],
      "id": "lgg_VDwCkpan"
    },
    {
      "cell_type": "code",
      "metadata": {
        "id": "78d78c31",
        "outputId": "6a6cdf6f-8b4a-47e7-cd41-11009dfd5dba"
      },
      "source": [
        "train_graph=nx.read_edgelist('/home/satya_anuragh/train_x.csv',delimiter=',',create_using=nx.DiGraph(),nodetype=int)\n",
        "print(nx.info(train_graph))"
      ],
      "id": "78d78c31",
      "execution_count": null,
      "outputs": [
        {
          "output_type": "stream",
          "text": [
            "Name: \n",
            "Type: DiGraph\n",
            "Number of nodes: 1862167\n",
            "Number of edges: 13590013\n",
            "Average in degree:   7.2980\n",
            "Average out degree:   7.2980\n"
          ],
          "name": "stdout"
        }
      ]
    },
    {
      "cell_type": "markdown",
      "metadata": {
        "id": "7eQZaGILk9pg"
      },
      "source": [
        "## Similarity Measures"
      ],
      "id": "7eQZaGILk9pg"
    },
    {
      "cell_type": "markdown",
      "metadata": {
        "id": "pqBQQ3mekr_d"
      },
      "source": [
        "## Jaccard Similarity Measures for Followers and Followees"
      ],
      "id": "pqBQQ3mekr_d"
    },
    {
      "cell_type": "code",
      "metadata": {
        "id": "82432502"
      },
      "source": [
        "def jaccard_for_followers(a,b):\n",
        "    try:\n",
        "        if len(set(train_graph.predecessors(a)))==0 and len(set(train_graph.predecessors(b)))==0:\n",
        "            sim=0\n",
        "        else:\n",
        "            sim= len(set(train_graph.predecessors(a)).intersection(set(train_graph.predecessors(b))))/ len(set(set(train_graph.predecessors(a)).union(set(train_graph.predecessors(b)))))\n",
        "    except:\n",
        "        return 0\n",
        "    \n",
        "    return sim"
      ],
      "id": "82432502",
      "execution_count": null,
      "outputs": []
    },
    {
      "cell_type": "code",
      "metadata": {
        "id": "341b828c"
      },
      "source": [
        "def jaccard_for_followees(a,b):\n",
        "    try:\n",
        "        if len(set(train_graph.successors(a)))==0 and len(set(train_graph.successors(b)))==0:\n",
        "            sim=0\n",
        "        else:\n",
        "            sim= len(set(train_graph.successors(a)).intersection(set(train_graph.successors(b))))/ len(set(set(train_graph.successors(a)).union(set(train_graph.successors(b)))))\n",
        "    except:\n",
        "        return 0\n",
        "    \n",
        "    return sim"
      ],
      "id": "341b828c",
      "execution_count": null,
      "outputs": []
    },
    {
      "cell_type": "markdown",
      "metadata": {
        "id": "6xKNiCGUk0FW"
      },
      "source": [
        "## Cosine Similarity Measures for Followers and Followees"
      ],
      "id": "6xKNiCGUk0FW"
    },
    {
      "cell_type": "code",
      "metadata": {
        "id": "8491b2a0"
      },
      "source": [
        "def cosine_for_followers(a,b):\n",
        "    try:\n",
        "        if len(set(train_graph.predecessors(a)))==0 and len(set(train_graph.predecessors(b)))==0:\n",
        "            sim=0\n",
        "        else:\n",
        "            sim= len(set(train_graph.predecessors(a)).intersection(set(train_graph.predecessors(b))))/sqrt(len(set(train_graph.predecessors(a)))*len(set(train_graph.predecessors(b))))\n",
        "    except:\n",
        "        return 0\n",
        "    \n",
        "    return sim"
      ],
      "id": "8491b2a0",
      "execution_count": null,
      "outputs": []
    },
    {
      "cell_type": "code",
      "metadata": {
        "id": "ad7d6590"
      },
      "source": [
        "def cosine_for_followees(a,b):\n",
        "    try:\n",
        "        if len(set(train_graph.successors(a)))==0 and len(set(train_graph.successors(b)))==0:\n",
        "            sim=0\n",
        "        else:\n",
        "            sim= len(set(train_graph.successors(a)).intersection(set(train_graph.successors(b))))/sqrt(len(set(train_graph.successors(a)))*len(set(train_graph.successors(b))))\n",
        "    except:\n",
        "        return 0\n",
        "\n",
        "    return sim"
      ],
      "id": "ad7d6590",
      "execution_count": null,
      "outputs": []
    },
    {
      "cell_type": "markdown",
      "metadata": {
        "id": "w_-R12hok6PX"
      },
      "source": [
        "## Ranking Measures"
      ],
      "id": "w_-R12hok6PX"
    },
    {
      "cell_type": "markdown",
      "metadata": {
        "id": "Ilj47t4vlFmd"
      },
      "source": [
        "## Page Rank Measures"
      ],
      "id": "Ilj47t4vlFmd"
    },
    {
      "cell_type": "code",
      "metadata": {
        "id": "d0bb69e2"
      },
      "source": [
        "def page_rank(a):\n",
        "    pr= nx.pagerank(train_graph,alpha=0.85)\n",
        "    return pr"
      ],
      "id": "d0bb69e2",
      "execution_count": null,
      "outputs": []
    },
    {
      "cell_type": "markdown",
      "metadata": {
        "id": "qQAnUqvLlKmj"
      },
      "source": [
        "##Graph Measures"
      ],
      "id": "qQAnUqvLlKmj"
    },
    {
      "cell_type": "markdown",
      "metadata": {
        "id": "3cy-2dB9lM29"
      },
      "source": [
        "### Shortest Path Measure"
      ],
      "id": "3cy-2dB9lM29"
    },
    {
      "cell_type": "code",
      "metadata": {
        "id": "f3e8f41b"
      },
      "source": [
        "def shortest_path(a,b):\n",
        "    if train_graph.has_edge(a,b):\n",
        "        train_graph.remove_edge(a,b)\n",
        "        p= nx.shortest_path_length(train_grpah,source=a,target=b)\n",
        "        train_graph.add_edge(a,b)\n",
        "    else:\n",
        "        p= nx.shortest_path_length(train_graph,source=a,target=b)\n",
        "    return p"
      ],
      "id": "f3e8f41b",
      "execution_count": null,
      "outputs": []
    },
    {
      "cell_type": "code",
      "metadata": {
        "id": "b291e229"
      },
      "source": [
        "#if has direct edge then deleting that edge and calculating shortest path\n",
        "def compute_shortest_path_length(a,b):\n",
        "    p=-1\n",
        "    try:\n",
        "        if train_graph.has_edge(a,b):\n",
        "            train_graph.remove_edge(a,b)\n",
        "            p= nx.shortest_path_length(train_graph,source=a,target=b)\n",
        "            train_graph.add_edge(a,b)\n",
        "        else:\n",
        "            p= nx.shortest_path_length(train_graph,source=a,target=b)\n",
        "        return p\n",
        "    except:\n",
        "        return -1"
      ],
      "id": "b291e229",
      "execution_count": null,
      "outputs": []
    },
    {
      "cell_type": "markdown",
      "metadata": {
        "id": "fqsYJa_-lSwE"
      },
      "source": [
        "## Same Community Measure"
      ],
      "id": "fqsYJa_-lSwE"
    },
    {
      "cell_type": "code",
      "metadata": {
        "id": "ec0c00a5"
      },
      "source": [
        "def belongs_to_same_wcc(a,b):\n",
        "    wcc=list(nx.weakly_connected_components(train_graph))\n",
        "    index = []\n",
        "    if train_graph.has_edge(b,a):\n",
        "        return 1\n",
        "    if train_graph.has_edge(a,b):\n",
        "            for i in wcc:\n",
        "                if a in i:\n",
        "                    index= i\n",
        "                    break\n",
        "            if (b in index):\n",
        "                train_graph.remove_edge(a,b)\n",
        "                if compute_shortest_path_length(a,b)==-1:\n",
        "                    train_graph.add_edge(a,b)\n",
        "                    return 0\n",
        "                else:\n",
        "                    train_graph.add_edge(a,b)\n",
        "                    return 1\n",
        "            else:\n",
        "                return 0\n",
        "    else:\n",
        "            for i in wcc:\n",
        "                if a in i:\n",
        "                    index= i\n",
        "                    break\n",
        "            if(b in index):\n",
        "                return 1\n",
        "            else:\n",
        "                return 0"
      ],
      "id": "ec0c00a5",
      "execution_count": null,
      "outputs": []
    },
    {
      "cell_type": "markdown",
      "metadata": {
        "id": "_wB7krNplXv7"
      },
      "source": [
        "## Adamic/Adar Index"
      ],
      "id": "_wB7krNplXv7"
    },
    {
      "cell_type": "code",
      "metadata": {
        "id": "6a5a277a"
      },
      "source": [
        "def adar_index(a,b):\n",
        "    sum=0\n",
        "    try:\n",
        "        N= list(set(train_graph.successors(a)).intersection(set(train_graph.successors(b))))\n",
        "        \n",
        "        if len(N)!=0:\n",
        "            for n in N:\n",
        "                sum= sum+(1/np.log10(len(list(train_graph.predecessors(n)))))\n",
        "            return sum\n",
        "        else:\n",
        "            return 0\n",
        "    \n",
        "    except:\n",
        "        return 0"
      ],
      "id": "6a5a277a",
      "execution_count": null,
      "outputs": []
    },
    {
      "cell_type": "markdown",
      "metadata": {
        "id": "hklp-HP8lcGm"
      },
      "source": [
        "### Is the person Following Back Measure"
      ],
      "id": "hklp-HP8lcGm"
    },
    {
      "cell_type": "code",
      "metadata": {
        "id": "c80a7c94"
      },
      "source": [
        "def follows_back(a,b):\n",
        "    if train_graph.has_edge(b,a):\n",
        "        return 1\n",
        "    else:\n",
        "        return 0"
      ],
      "id": "c80a7c94",
      "execution_count": null,
      "outputs": []
    },
    {
      "cell_type": "markdown",
      "metadata": {
        "id": "KAlBbpiPlhOF"
      },
      "source": [
        "### Katz Similarity"
      ],
      "id": "KAlBbpiPlhOF"
    },
    {
      "cell_type": "code",
      "metadata": {
        "id": "93748ab9"
      },
      "source": [
        "def katz_centrality(graph):\n",
        "    katz= nx.katz.katz_centrality(graph,alpha=0.005,beta=1)\n",
        "    return katz"
      ],
      "id": "93748ab9",
      "execution_count": null,
      "outputs": []
    },
    {
      "cell_type": "markdown",
      "metadata": {
        "id": "I_jwlzZelkfc"
      },
      "source": [
        "### HITS Score"
      ],
      "id": "I_jwlzZelkfc"
    },
    {
      "cell_type": "code",
      "metadata": {
        "id": "2473e674"
      },
      "source": [
        "def hits_score(graph):\n",
        "    hits= nx.hits(graph,max_iter=100,tol=1e-08,nstart=None,normalized=True)\n",
        "    return hits"
      ],
      "id": "2473e674",
      "execution_count": null,
      "outputs": []
    },
    {
      "cell_type": "markdown",
      "metadata": {
        "id": "YyOrVV55ngvS"
      },
      "source": [
        "###  Reading a sample of Data from both train and test"
      ],
      "id": "YyOrVV55ngvS"
    },
    {
      "cell_type": "code",
      "metadata": {
        "id": "ad9c7215",
        "outputId": "44743f92-4d9f-4c03-b938-1550eaeb9107"
      },
      "source": [
        "filename= '/home/satya_anuragh/train_x.csv'\n",
        "\n",
        "n_train=0\n",
        "for line in open(filename):\n",
        "    n_train=n_train+1\n",
        "print(\"Total number of nodes in the Train Dataset\",n_train)\n",
        "\n",
        "s=100000\n",
        "\n",
        "skip_train= sorted(random.sample(range(1,n_train+1),n_train-s))\n",
        "print(\"Number of rows skippied from the Train dataset:\",len(skip_train))"
      ],
      "id": "ad9c7215",
      "execution_count": null,
      "outputs": [
        {
          "output_type": "stream",
          "text": [
            "Total number of nodes in the Train Dataset 13590026\n",
            "Number of rows skippied from the Train dataset: 13490026\n"
          ],
          "name": "stdout"
        }
      ]
    },
    {
      "cell_type": "code",
      "metadata": {
        "id": "94d11169",
        "outputId": "b54ff353-7cca-46b0-a0ee-a3256e7cea3f"
      },
      "source": [
        "train_df_fin= pd.read_csv('/home/satya_anuragh/train_x.csv', skiprows=skip_train,names=['source_node','destination_node'])\n",
        "print(\"The shape of the New Train Dataset:\",train_df_fin.shape)\n",
        "train_df_fin['indicator_link']= pd.read_csv('/home/satya_anuragh/train_y.csv',skiprows=skip_train,names=['indicator_link'])\n",
        "print(train_df_fin.head())"
      ],
      "id": "94d11169",
      "execution_count": null,
      "outputs": [
        {
          "output_type": "stream",
          "text": [
            "The shape of the New Train Dataset: (100001, 2)\n",
            "   source_node  destination_node  indicator_link\n",
            "0      1209596            914101               1\n",
            "1      1297299            944694               1\n",
            "2       900647            790873               1\n",
            "3      1609958           1258903               1\n",
            "4      1288200            621303               1\n"
          ],
          "name": "stdout"
        }
      ]
    },
    {
      "cell_type": "code",
      "metadata": {
        "id": "160fc3e7",
        "outputId": "3b592e61-2d04-4d28-ed9c-135b84f41e5d"
      },
      "source": [
        "filename= '/home/satya_anuragh/test_x.csv'\n",
        "\n",
        "n_test=0\n",
        "for line in open(filename):\n",
        "    n_test= n_test+1\n",
        "print(\"Total number of nodes in the Test Dataset\",n_test)\n",
        "\n",
        "s= 50000\n",
        "\n",
        "skip_test= sorted((random.sample(range(1,n_test+1),n_test-s)))\n",
        "\n",
        "print(\"Number of rows skipped from the Test Dataset:\",len(skip_test))"
      ],
      "id": "160fc3e7",
      "execution_count": null,
      "outputs": [
        {
          "output_type": "stream",
          "text": [
            "Total number of nodes in the Test Dataset 3397507\n",
            "Number of rows skipped from the Test Dataset: 3347507\n"
          ],
          "name": "stdout"
        }
      ]
    },
    {
      "cell_type": "code",
      "metadata": {
        "id": "974b4ad1",
        "outputId": "31f303d1-9d30-4903-ac9f-55d29576fd13"
      },
      "source": [
        "test_df_fin= pd.read_csv('/home/satya_anuragh/test_x.csv', skiprows= skip_test,names=['source_node','destination_node'])\n",
        "print(\"The shape of the New Test Dataset:\",test_df_fin.shape)\n",
        "test_df_fin['indicator_link']= pd.read_csv('/home/satya_anuragh/test_y.csv',skiprows=skip_test,names=['indocator_link'])\n",
        "print(test_df_fin.head(2))"
      ],
      "id": "974b4ad1",
      "execution_count": null,
      "outputs": [
        {
          "output_type": "stream",
          "text": [
            "The shape of the New Test Dataset: (50001, 2)\n",
            "   source_node  destination_node  indicator_link\n",
            "0      1806020           1333352               1\n",
            "1       241858            308816               1\n"
          ],
          "name": "stdout"
        }
      ]
    },
    {
      "cell_type": "markdown",
      "metadata": {
        "id": "FkXF-9hSoUmZ"
      },
      "source": [
        "##Adding new set of features"
      ],
      "id": "FkXF-9hSoUmZ"
    },
    {
      "cell_type": "code",
      "metadata": {
        "id": "7a88e6ba"
      },
      "source": [
        "train_df_fin['jaccard_followers']= train_df_fin.apply(lambda row:jaccard_for_followers(row['source_node'],row['destination_node']),axis=1)\n",
        "test_df_fin['jaccard_followers']= test_df_fin.apply(lambda row:jaccard_for_followers(row['source_node'],row['destination_node']),axis=1)\n",
        "\n",
        "train_df_fin['jaccard_followees']= train_df_fin.apply(lambda row:jaccard_for_followees(row['source_node'],row['destination_node']),axis=1)\n",
        "test_df_fin['jaccard_followees']= test_df_fin.apply(lambda row:jaccard_for_followees(row['source_node'],row['destination_node']),axis=1)\n",
        "\n",
        "train_df_fin['cosine_followers']= train_df_fin.apply(lambda row:cosine_for_followers(row['source_node'],row['destination_node']),axis=1)\n",
        "test_df_fin['cosine_followers']= test_df_fin.apply(lambda row:cosine_for_followers(row['source_node'],row['destination_node']),axis=1)\n",
        "\n",
        "train_df_fin['cosine_followees']= train_df_fin.apply(lambda row:cosine_for_followees(row['source_node'],row['destination_node']),axis=1)\n",
        "test_df_fin['cosine_followees']= test_df_fin.apply(lambda row:cosine_for_followees(row['source_node'],row['destination_node']),axis=1)"
      ],
      "id": "7a88e6ba",
      "execution_count": null,
      "outputs": []
    },
    {
      "cell_type": "code",
      "metadata": {
        "id": "4a32952b"
      },
      "source": [
        "def compute_features_stage1(df_final):\n",
        "    calculating no of followers followees for source and destination\n",
        "    calculating intersection of followers and followees for source and destination\n",
        "    num_followers_s=[]\n",
        "    num_followees_s=[]\n",
        "    num_followers_d=[]\n",
        "    num_followees_d=[]\n",
        "    inter_followers=[]\n",
        "    inter_followees=[]\n",
        "    for i,row in df_final.iterrows():\n",
        "        try:\n",
        "            s1=set(train_graph.predecessors(row['source_node']))\n",
        "            s2=set(train_graph.successors(row['source_node']))\n",
        "        except:\n",
        "            s1 = set()\n",
        "            s2 = set()\n",
        "        try:\n",
        "            d1=set(train_graph.predecessors(row['destination_node']))\n",
        "            d2=set(train_graph.successors(row['destination_node']))\n",
        "        except:\n",
        "            d1 = set()\n",
        "            d2 = set()\n",
        "        num_followers_s.append(len(s1))\n",
        "        num_followees_s.append(len(s2))\n",
        "\n",
        "        num_followers_d.append(len(d1))\n",
        "        num_followees_d.append(len(d2))\n",
        "\n",
        "        inter_followers.append(len(s1.intersection(d1)))\n",
        "        inter_followees.append(len(s2.intersection(d2)))\n",
        "    \n",
        "    return num_followers_s, num_followers_d, num_followees_s, num_followees_d, inter_followers, inter_followees\n",
        "    return num_followers_d\n"
      ],
      "id": "4a32952b",
      "execution_count": null,
      "outputs": []
    },
    {
      "cell_type": "code",
      "metadata": {
        "id": "9e5f943b"
      },
      "source": [
        "train_df_fin['num_followers_d']= compute_features_stage1(train_df_fin)\n",
        "\n",
        "test_df_fin['num_followers_d']= compute_features_stage1(test_df_fin)"
      ],
      "id": "9e5f943b",
      "execution_count": null,
      "outputs": []
    },
    {
      "cell_type": "code",
      "metadata": {
        "id": "842184e8"
      },
      "source": [
        "train_df_fin['s_followers'],train_df_fin['d_followers'], \\\n",
        "train_df_fin['s_followees'],train_df_fin['d_followees'], \\\n",
        "train_df_fin['inter_followers'],train_df_fin['inter_followees']= compute_features_stage1(train_df_fin)\n",
        "\n",
        "test_df_fin['s_followers'],test_df_fin['d_followers'], \\\n",
        "test_df_fin['s_followees'],test_df_fin['s_followees'], \\\n",
        "test_df_fin['inter_followers'],test_df_fin['inter_followees']= compute_features_stage1(test_df_fin)\n",
        "\n",
        "hdf= HDFStore('storage_sample_stage1.h5')\n",
        "hdf.put('train_df',train_df_fin, format='table', data_columns=True)\n",
        "hdf.put('test_df',test_df_fin, format='table', data_columns=True)\n",
        "hdf.close()"
      ],
      "id": "842184e8",
      "execution_count": null,
      "outputs": []
    },
    {
      "cell_type": "code",
      "metadata": {
        "id": "fa6d9e39"
      },
      "source": [
        "train_df_fin= read_hdf('/home/satya_anuragh/storage_sample_stage1.h5', 'train_df',mode='r')\n",
        "test_df_fin= read_hdf('/home/satya_anuragh/storage_sample_stage1.h5', 'test_df',mode='r')"
      ],
      "id": "fa6d9e39",
      "execution_count": null,
      "outputs": []
    },
    {
      "cell_type": "code",
      "metadata": {
        "collapsed": true,
        "id": "f287fc0e",
        "outputId": "7fce9fb2-3a85-4f33-9a6c-555d16393986"
      },
      "source": [
        "train_df_fin['adar_index']= train_df_fin.apply(lambda row: adar_index(row['source_node'], row['destination_node']),axis=1)\n",
        "test_df_fin['adar_index']= test_df_fin.apply(lambda row: adar_index(row['source_node'],row['destination_node']),axis=1)\n",
        "\n",
        "train_df_fin['follows_back']= train_df_fin.apply(lambda row: follows_back(row['source_node'],row['destination_node']),axis=1)\n",
        "test_df_fin['follows_back']= test_df_fin.apply(lambda row: follows_back(row['source_node'],row['destination_node']),axis=1)\n",
        "\n",
        "train_df_fin['same_comp']= train_df_fin.apply(lambda row: belongs_to_same_wcc(row['source_node'],row['destination_node']),axis=1)\n",
        "test_df_fin['same_comp']= test_df_fin.apply(lambda row: belongs_to_same_wcc(row['source_node'],row['destination_node']),axis=1)\n",
        "\n",
        "train_df_fin['shortest_path']= train_df_fin.apply(lambda row: shortest_path(row['source_node'],row['destination_node']),axis=1)\n",
        "test_df_fin['shortest_path']= test_df_fin.apply(lambda row: shortest_path(row['source_node'],row['destination_node']),axis=1)"
      ],
      "id": "f287fc0e",
      "execution_count": null,
      "outputs": [
        {
          "output_type": "error",
          "ename": "KeyboardInterrupt",
          "evalue": "",
          "traceback": [
            "\u001b[0;31m---------------------------------------------------------------------------\u001b[0m",
            "\u001b[0;31mKeyboardInterrupt\u001b[0m                         Traceback (most recent call last)",
            "\u001b[0;32m<ipython-input-23-8d945c1c0e8e>\u001b[0m in \u001b[0;36m<module>\u001b[0;34m\u001b[0m\n\u001b[1;32m      5\u001b[0m \u001b[0;31m#test_df_fin['follows_back']= test_df_fin.apply(lambda row: follows_back(row['source_node'],row['destination_node']),axis=1)\u001b[0m\u001b[0;34m\u001b[0m\u001b[0;34m\u001b[0m\u001b[0;34m\u001b[0m\u001b[0m\n\u001b[1;32m      6\u001b[0m \u001b[0;34m\u001b[0m\u001b[0m\n\u001b[0;32m----> 7\u001b[0;31m \u001b[0mtrain_df_fin\u001b[0m\u001b[0;34m[\u001b[0m\u001b[0;34m'same_comp'\u001b[0m\u001b[0;34m]\u001b[0m\u001b[0;34m=\u001b[0m \u001b[0mtrain_df_fin\u001b[0m\u001b[0;34m.\u001b[0m\u001b[0mapply\u001b[0m\u001b[0;34m(\u001b[0m\u001b[0;32mlambda\u001b[0m \u001b[0mrow\u001b[0m\u001b[0;34m:\u001b[0m \u001b[0mbelongs_to_same_wcc\u001b[0m\u001b[0;34m(\u001b[0m\u001b[0mrow\u001b[0m\u001b[0;34m[\u001b[0m\u001b[0;34m'source_node'\u001b[0m\u001b[0;34m]\u001b[0m\u001b[0;34m,\u001b[0m\u001b[0mrow\u001b[0m\u001b[0;34m[\u001b[0m\u001b[0;34m'destination_node'\u001b[0m\u001b[0;34m]\u001b[0m\u001b[0;34m)\u001b[0m\u001b[0;34m,\u001b[0m\u001b[0maxis\u001b[0m\u001b[0;34m=\u001b[0m\u001b[0;36m1\u001b[0m\u001b[0;34m)\u001b[0m\u001b[0;34m\u001b[0m\u001b[0;34m\u001b[0m\u001b[0m\n\u001b[0m\u001b[1;32m      8\u001b[0m \u001b[0mtest_df_fin\u001b[0m\u001b[0;34m[\u001b[0m\u001b[0;34m'same_comp'\u001b[0m\u001b[0;34m]\u001b[0m\u001b[0;34m=\u001b[0m \u001b[0mtest_df_fin\u001b[0m\u001b[0;34m.\u001b[0m\u001b[0mapply\u001b[0m\u001b[0;34m(\u001b[0m\u001b[0;32mlambda\u001b[0m \u001b[0mrow\u001b[0m\u001b[0;34m:\u001b[0m \u001b[0mbelongs_to_same_wcc\u001b[0m\u001b[0;34m(\u001b[0m\u001b[0mrow\u001b[0m\u001b[0;34m[\u001b[0m\u001b[0;34m'source_node'\u001b[0m\u001b[0;34m]\u001b[0m\u001b[0;34m,\u001b[0m\u001b[0mrow\u001b[0m\u001b[0;34m[\u001b[0m\u001b[0;34m'destination_node'\u001b[0m\u001b[0;34m]\u001b[0m\u001b[0;34m)\u001b[0m\u001b[0;34m,\u001b[0m\u001b[0maxis\u001b[0m\u001b[0;34m=\u001b[0m\u001b[0;36m1\u001b[0m\u001b[0;34m)\u001b[0m\u001b[0;34m\u001b[0m\u001b[0;34m\u001b[0m\u001b[0m\n\u001b[1;32m      9\u001b[0m \u001b[0;34m\u001b[0m\u001b[0m\n",
            "\u001b[0;32m/opt/conda/lib/python3.7/site-packages/pandas/core/frame.py\u001b[0m in \u001b[0;36mapply\u001b[0;34m(self, func, axis, raw, result_type, args, **kwds)\u001b[0m\n\u001b[1;32m   7766\u001b[0m             \u001b[0mkwds\u001b[0m\u001b[0;34m=\u001b[0m\u001b[0mkwds\u001b[0m\u001b[0;34m,\u001b[0m\u001b[0;34m\u001b[0m\u001b[0;34m\u001b[0m\u001b[0m\n\u001b[1;32m   7767\u001b[0m         )\n\u001b[0;32m-> 7768\u001b[0;31m         \u001b[0;32mreturn\u001b[0m \u001b[0mop\u001b[0m\u001b[0;34m.\u001b[0m\u001b[0mget_result\u001b[0m\u001b[0;34m(\u001b[0m\u001b[0;34m)\u001b[0m\u001b[0;34m\u001b[0m\u001b[0;34m\u001b[0m\u001b[0m\n\u001b[0m\u001b[1;32m   7769\u001b[0m \u001b[0;34m\u001b[0m\u001b[0m\n\u001b[1;32m   7770\u001b[0m     \u001b[0;32mdef\u001b[0m \u001b[0mapplymap\u001b[0m\u001b[0;34m(\u001b[0m\u001b[0mself\u001b[0m\u001b[0;34m,\u001b[0m \u001b[0mfunc\u001b[0m\u001b[0;34m,\u001b[0m \u001b[0mna_action\u001b[0m\u001b[0;34m:\u001b[0m \u001b[0mOptional\u001b[0m\u001b[0;34m[\u001b[0m\u001b[0mstr\u001b[0m\u001b[0;34m]\u001b[0m \u001b[0;34m=\u001b[0m \u001b[0;32mNone\u001b[0m\u001b[0;34m)\u001b[0m \u001b[0;34m->\u001b[0m \u001b[0mDataFrame\u001b[0m\u001b[0;34m:\u001b[0m\u001b[0;34m\u001b[0m\u001b[0;34m\u001b[0m\u001b[0m\n",
            "\u001b[0;32m/opt/conda/lib/python3.7/site-packages/pandas/core/apply.py\u001b[0m in \u001b[0;36mget_result\u001b[0;34m(self)\u001b[0m\n\u001b[1;32m    183\u001b[0m             \u001b[0;32mreturn\u001b[0m \u001b[0mself\u001b[0m\u001b[0;34m.\u001b[0m\u001b[0mapply_raw\u001b[0m\u001b[0;34m(\u001b[0m\u001b[0;34m)\u001b[0m\u001b[0;34m\u001b[0m\u001b[0;34m\u001b[0m\u001b[0m\n\u001b[1;32m    184\u001b[0m \u001b[0;34m\u001b[0m\u001b[0m\n\u001b[0;32m--> 185\u001b[0;31m         \u001b[0;32mreturn\u001b[0m \u001b[0mself\u001b[0m\u001b[0;34m.\u001b[0m\u001b[0mapply_standard\u001b[0m\u001b[0;34m(\u001b[0m\u001b[0;34m)\u001b[0m\u001b[0;34m\u001b[0m\u001b[0;34m\u001b[0m\u001b[0m\n\u001b[0m\u001b[1;32m    186\u001b[0m \u001b[0;34m\u001b[0m\u001b[0m\n\u001b[1;32m    187\u001b[0m     \u001b[0;32mdef\u001b[0m \u001b[0mapply_empty_result\u001b[0m\u001b[0;34m(\u001b[0m\u001b[0mself\u001b[0m\u001b[0;34m)\u001b[0m\u001b[0;34m:\u001b[0m\u001b[0;34m\u001b[0m\u001b[0;34m\u001b[0m\u001b[0m\n",
            "\u001b[0;32m/opt/conda/lib/python3.7/site-packages/pandas/core/apply.py\u001b[0m in \u001b[0;36mapply_standard\u001b[0;34m(self)\u001b[0m\n\u001b[1;32m    274\u001b[0m \u001b[0;34m\u001b[0m\u001b[0m\n\u001b[1;32m    275\u001b[0m     \u001b[0;32mdef\u001b[0m \u001b[0mapply_standard\u001b[0m\u001b[0;34m(\u001b[0m\u001b[0mself\u001b[0m\u001b[0;34m)\u001b[0m\u001b[0;34m:\u001b[0m\u001b[0;34m\u001b[0m\u001b[0;34m\u001b[0m\u001b[0m\n\u001b[0;32m--> 276\u001b[0;31m         \u001b[0mresults\u001b[0m\u001b[0;34m,\u001b[0m \u001b[0mres_index\u001b[0m \u001b[0;34m=\u001b[0m \u001b[0mself\u001b[0m\u001b[0;34m.\u001b[0m\u001b[0mapply_series_generator\u001b[0m\u001b[0;34m(\u001b[0m\u001b[0;34m)\u001b[0m\u001b[0;34m\u001b[0m\u001b[0;34m\u001b[0m\u001b[0m\n\u001b[0m\u001b[1;32m    277\u001b[0m \u001b[0;34m\u001b[0m\u001b[0m\n\u001b[1;32m    278\u001b[0m         \u001b[0;31m# wrap results\u001b[0m\u001b[0;34m\u001b[0m\u001b[0;34m\u001b[0m\u001b[0;34m\u001b[0m\u001b[0m\n",
            "\u001b[0;32m/opt/conda/lib/python3.7/site-packages/pandas/core/apply.py\u001b[0m in \u001b[0;36mapply_series_generator\u001b[0;34m(self)\u001b[0m\n\u001b[1;32m    288\u001b[0m             \u001b[0;32mfor\u001b[0m \u001b[0mi\u001b[0m\u001b[0;34m,\u001b[0m \u001b[0mv\u001b[0m \u001b[0;32min\u001b[0m \u001b[0menumerate\u001b[0m\u001b[0;34m(\u001b[0m\u001b[0mseries_gen\u001b[0m\u001b[0;34m)\u001b[0m\u001b[0;34m:\u001b[0m\u001b[0;34m\u001b[0m\u001b[0;34m\u001b[0m\u001b[0m\n\u001b[1;32m    289\u001b[0m                 \u001b[0;31m# ignore SettingWithCopy here in case the user mutates\u001b[0m\u001b[0;34m\u001b[0m\u001b[0;34m\u001b[0m\u001b[0;34m\u001b[0m\u001b[0m\n\u001b[0;32m--> 290\u001b[0;31m                 \u001b[0mresults\u001b[0m\u001b[0;34m[\u001b[0m\u001b[0mi\u001b[0m\u001b[0;34m]\u001b[0m \u001b[0;34m=\u001b[0m \u001b[0mself\u001b[0m\u001b[0;34m.\u001b[0m\u001b[0mf\u001b[0m\u001b[0;34m(\u001b[0m\u001b[0mv\u001b[0m\u001b[0;34m)\u001b[0m\u001b[0;34m\u001b[0m\u001b[0;34m\u001b[0m\u001b[0m\n\u001b[0m\u001b[1;32m    291\u001b[0m                 \u001b[0;32mif\u001b[0m \u001b[0misinstance\u001b[0m\u001b[0;34m(\u001b[0m\u001b[0mresults\u001b[0m\u001b[0;34m[\u001b[0m\u001b[0mi\u001b[0m\u001b[0;34m]\u001b[0m\u001b[0;34m,\u001b[0m \u001b[0mABCSeries\u001b[0m\u001b[0;34m)\u001b[0m\u001b[0;34m:\u001b[0m\u001b[0;34m\u001b[0m\u001b[0;34m\u001b[0m\u001b[0m\n\u001b[1;32m    292\u001b[0m                     \u001b[0;31m# If we have a view on v, we need to make a copy because\u001b[0m\u001b[0;34m\u001b[0m\u001b[0;34m\u001b[0m\u001b[0;34m\u001b[0m\u001b[0m\n",
            "\u001b[0;32m<ipython-input-23-8d945c1c0e8e>\u001b[0m in \u001b[0;36m<lambda>\u001b[0;34m(row)\u001b[0m\n\u001b[1;32m      5\u001b[0m \u001b[0;31m#test_df_fin['follows_back']= test_df_fin.apply(lambda row: follows_back(row['source_node'],row['destination_node']),axis=1)\u001b[0m\u001b[0;34m\u001b[0m\u001b[0;34m\u001b[0m\u001b[0;34m\u001b[0m\u001b[0m\n\u001b[1;32m      6\u001b[0m \u001b[0;34m\u001b[0m\u001b[0m\n\u001b[0;32m----> 7\u001b[0;31m \u001b[0mtrain_df_fin\u001b[0m\u001b[0;34m[\u001b[0m\u001b[0;34m'same_comp'\u001b[0m\u001b[0;34m]\u001b[0m\u001b[0;34m=\u001b[0m \u001b[0mtrain_df_fin\u001b[0m\u001b[0;34m.\u001b[0m\u001b[0mapply\u001b[0m\u001b[0;34m(\u001b[0m\u001b[0;32mlambda\u001b[0m \u001b[0mrow\u001b[0m\u001b[0;34m:\u001b[0m \u001b[0mbelongs_to_same_wcc\u001b[0m\u001b[0;34m(\u001b[0m\u001b[0mrow\u001b[0m\u001b[0;34m[\u001b[0m\u001b[0;34m'source_node'\u001b[0m\u001b[0;34m]\u001b[0m\u001b[0;34m,\u001b[0m\u001b[0mrow\u001b[0m\u001b[0;34m[\u001b[0m\u001b[0;34m'destination_node'\u001b[0m\u001b[0;34m]\u001b[0m\u001b[0;34m)\u001b[0m\u001b[0;34m,\u001b[0m\u001b[0maxis\u001b[0m\u001b[0;34m=\u001b[0m\u001b[0;36m1\u001b[0m\u001b[0;34m)\u001b[0m\u001b[0;34m\u001b[0m\u001b[0;34m\u001b[0m\u001b[0m\n\u001b[0m\u001b[1;32m      8\u001b[0m \u001b[0mtest_df_fin\u001b[0m\u001b[0;34m[\u001b[0m\u001b[0;34m'same_comp'\u001b[0m\u001b[0;34m]\u001b[0m\u001b[0;34m=\u001b[0m \u001b[0mtest_df_fin\u001b[0m\u001b[0;34m.\u001b[0m\u001b[0mapply\u001b[0m\u001b[0;34m(\u001b[0m\u001b[0;32mlambda\u001b[0m \u001b[0mrow\u001b[0m\u001b[0;34m:\u001b[0m \u001b[0mbelongs_to_same_wcc\u001b[0m\u001b[0;34m(\u001b[0m\u001b[0mrow\u001b[0m\u001b[0;34m[\u001b[0m\u001b[0;34m'source_node'\u001b[0m\u001b[0;34m]\u001b[0m\u001b[0;34m,\u001b[0m\u001b[0mrow\u001b[0m\u001b[0;34m[\u001b[0m\u001b[0;34m'destination_node'\u001b[0m\u001b[0;34m]\u001b[0m\u001b[0;34m)\u001b[0m\u001b[0;34m,\u001b[0m\u001b[0maxis\u001b[0m\u001b[0;34m=\u001b[0m\u001b[0;36m1\u001b[0m\u001b[0;34m)\u001b[0m\u001b[0;34m\u001b[0m\u001b[0;34m\u001b[0m\u001b[0m\n\u001b[1;32m      9\u001b[0m \u001b[0;34m\u001b[0m\u001b[0m\n",
            "\u001b[0;32m<ipython-input-22-cf6d51a8050b>\u001b[0m in \u001b[0;36mbelongs_to_same_wcc\u001b[0;34m(a, b)\u001b[0m\n\u001b[1;32m      1\u001b[0m \u001b[0;32mdef\u001b[0m \u001b[0mbelongs_to_same_wcc\u001b[0m\u001b[0;34m(\u001b[0m\u001b[0ma\u001b[0m\u001b[0;34m,\u001b[0m\u001b[0mb\u001b[0m\u001b[0;34m)\u001b[0m\u001b[0;34m:\u001b[0m\u001b[0;34m\u001b[0m\u001b[0;34m\u001b[0m\u001b[0m\n\u001b[0;32m----> 2\u001b[0;31m     \u001b[0mwcc\u001b[0m\u001b[0;34m=\u001b[0m\u001b[0mlist\u001b[0m\u001b[0;34m(\u001b[0m\u001b[0mnx\u001b[0m\u001b[0;34m.\u001b[0m\u001b[0mweakly_connected_components\u001b[0m\u001b[0;34m(\u001b[0m\u001b[0mtrain_graph\u001b[0m\u001b[0;34m)\u001b[0m\u001b[0;34m)\u001b[0m\u001b[0;34m\u001b[0m\u001b[0;34m\u001b[0m\u001b[0m\n\u001b[0m\u001b[1;32m      3\u001b[0m     \u001b[0mindex\u001b[0m \u001b[0;34m=\u001b[0m \u001b[0;34m[\u001b[0m\u001b[0;34m]\u001b[0m\u001b[0;34m\u001b[0m\u001b[0;34m\u001b[0m\u001b[0m\n\u001b[1;32m      4\u001b[0m     \u001b[0;32mif\u001b[0m \u001b[0mtrain_graph\u001b[0m\u001b[0;34m.\u001b[0m\u001b[0mhas_edge\u001b[0m\u001b[0;34m(\u001b[0m\u001b[0mb\u001b[0m\u001b[0;34m,\u001b[0m\u001b[0ma\u001b[0m\u001b[0;34m)\u001b[0m\u001b[0;34m:\u001b[0m\u001b[0;34m\u001b[0m\u001b[0;34m\u001b[0m\u001b[0m\n\u001b[1;32m      5\u001b[0m         \u001b[0;32mreturn\u001b[0m \u001b[0;36m1\u001b[0m\u001b[0;34m\u001b[0m\u001b[0;34m\u001b[0m\u001b[0m\n",
            "\u001b[0;32m/opt/conda/lib/python3.7/site-packages/networkx/algorithms/components/weakly_connected.py\u001b[0m in \u001b[0;36mweakly_connected_components\u001b[0;34m(G)\u001b[0m\n\u001b[1;32m     60\u001b[0m     \u001b[0;32mfor\u001b[0m \u001b[0mv\u001b[0m \u001b[0;32min\u001b[0m \u001b[0mG\u001b[0m\u001b[0;34m:\u001b[0m\u001b[0;34m\u001b[0m\u001b[0;34m\u001b[0m\u001b[0m\n\u001b[1;32m     61\u001b[0m         \u001b[0;32mif\u001b[0m \u001b[0mv\u001b[0m \u001b[0;32mnot\u001b[0m \u001b[0;32min\u001b[0m \u001b[0mseen\u001b[0m\u001b[0;34m:\u001b[0m\u001b[0;34m\u001b[0m\u001b[0;34m\u001b[0m\u001b[0m\n\u001b[0;32m---> 62\u001b[0;31m             \u001b[0mc\u001b[0m \u001b[0;34m=\u001b[0m \u001b[0mset\u001b[0m\u001b[0;34m(\u001b[0m\u001b[0m_plain_bfs\u001b[0m\u001b[0;34m(\u001b[0m\u001b[0mG\u001b[0m\u001b[0;34m,\u001b[0m \u001b[0mv\u001b[0m\u001b[0;34m)\u001b[0m\u001b[0;34m)\u001b[0m\u001b[0;34m\u001b[0m\u001b[0;34m\u001b[0m\u001b[0m\n\u001b[0m\u001b[1;32m     63\u001b[0m             \u001b[0;32myield\u001b[0m \u001b[0mc\u001b[0m\u001b[0;34m\u001b[0m\u001b[0;34m\u001b[0m\u001b[0m\n\u001b[1;32m     64\u001b[0m             \u001b[0mseen\u001b[0m\u001b[0;34m.\u001b[0m\u001b[0mupdate\u001b[0m\u001b[0;34m(\u001b[0m\u001b[0mc\u001b[0m\u001b[0;34m)\u001b[0m\u001b[0;34m\u001b[0m\u001b[0;34m\u001b[0m\u001b[0m\n",
            "\u001b[0;32m/opt/conda/lib/python3.7/site-packages/networkx/algorithms/components/weakly_connected.py\u001b[0m in \u001b[0;36m_plain_bfs\u001b[0;34m(G, source)\u001b[0m\n\u001b[1;32m    166\u001b[0m                 \u001b[0mseen\u001b[0m\u001b[0;34m.\u001b[0m\u001b[0madd\u001b[0m\u001b[0;34m(\u001b[0m\u001b[0mv\u001b[0m\u001b[0;34m)\u001b[0m\u001b[0;34m\u001b[0m\u001b[0;34m\u001b[0m\u001b[0m\n\u001b[1;32m    167\u001b[0m                 \u001b[0mnextlevel\u001b[0m\u001b[0;34m.\u001b[0m\u001b[0mupdate\u001b[0m\u001b[0;34m(\u001b[0m\u001b[0mGsucc\u001b[0m\u001b[0;34m[\u001b[0m\u001b[0mv\u001b[0m\u001b[0;34m]\u001b[0m\u001b[0;34m)\u001b[0m\u001b[0;34m\u001b[0m\u001b[0;34m\u001b[0m\u001b[0m\n\u001b[0;32m--> 168\u001b[0;31m                 \u001b[0mnextlevel\u001b[0m\u001b[0;34m.\u001b[0m\u001b[0mupdate\u001b[0m\u001b[0;34m(\u001b[0m\u001b[0mGpred\u001b[0m\u001b[0;34m[\u001b[0m\u001b[0mv\u001b[0m\u001b[0;34m]\u001b[0m\u001b[0;34m)\u001b[0m\u001b[0;34m\u001b[0m\u001b[0;34m\u001b[0m\u001b[0m\n\u001b[0m",
            "\u001b[0;32m/opt/conda/lib/python3.7/site-packages/networkx/classes/coreviews.py\u001b[0m in \u001b[0;36m__iter__\u001b[0;34m(self)\u001b[0m\n\u001b[1;32m     45\u001b[0m         \u001b[0;32mreturn\u001b[0m \u001b[0mlen\u001b[0m\u001b[0;34m(\u001b[0m\u001b[0mself\u001b[0m\u001b[0;34m.\u001b[0m\u001b[0m_atlas\u001b[0m\u001b[0;34m)\u001b[0m\u001b[0;34m\u001b[0m\u001b[0;34m\u001b[0m\u001b[0m\n\u001b[1;32m     46\u001b[0m \u001b[0;34m\u001b[0m\u001b[0m\n\u001b[0;32m---> 47\u001b[0;31m     \u001b[0;32mdef\u001b[0m \u001b[0m__iter__\u001b[0m\u001b[0;34m(\u001b[0m\u001b[0mself\u001b[0m\u001b[0;34m)\u001b[0m\u001b[0;34m:\u001b[0m\u001b[0;34m\u001b[0m\u001b[0;34m\u001b[0m\u001b[0m\n\u001b[0m\u001b[1;32m     48\u001b[0m         \u001b[0;32mreturn\u001b[0m \u001b[0miter\u001b[0m\u001b[0;34m(\u001b[0m\u001b[0mself\u001b[0m\u001b[0;34m.\u001b[0m\u001b[0m_atlas\u001b[0m\u001b[0;34m)\u001b[0m\u001b[0;34m\u001b[0m\u001b[0;34m\u001b[0m\u001b[0m\n\u001b[1;32m     49\u001b[0m \u001b[0;34m\u001b[0m\u001b[0m\n",
            "\u001b[0;31mKeyboardInterrupt\u001b[0m: "
          ]
        }
      ]
    },
    {
      "cell_type": "code",
      "metadata": {
        "id": "bde3a4fb",
        "outputId": "8017a982-0a7c-4952-c5e1-0f741eccd0f6"
      },
      "source": [
        "hdf= HDFStore('storage_sample_stage1.h5')\n",
        "hdf.put('train_df',train_df_fin, format='table', data_columns=True)\n",
        "hdf.put('test_df',test_df_fin, format='table', data_columns=True)\n",
        "hdf.close()"
      ],
      "id": "bde3a4fb",
      "execution_count": null,
      "outputs": [
        {
          "output_type": "execute_result",
          "data": {
            "text/html": [
              "<div>\n",
              "<style scoped>\n",
              "    .dataframe tbody tr th:only-of-type {\n",
              "        vertical-align: middle;\n",
              "    }\n",
              "\n",
              "    .dataframe tbody tr th {\n",
              "        vertical-align: top;\n",
              "    }\n",
              "\n",
              "    .dataframe thead th {\n",
              "        text-align: right;\n",
              "    }\n",
              "</style>\n",
              "<table border=\"1\" class=\"dataframe\">\n",
              "  <thead>\n",
              "    <tr style=\"text-align: right;\">\n",
              "      <th></th>\n",
              "      <th>source_node</th>\n",
              "      <th>destination_node</th>\n",
              "      <th>indicator_link</th>\n",
              "      <th>jaccard_followers</th>\n",
              "      <th>jaccard_followees</th>\n",
              "      <th>cosine_followers</th>\n",
              "      <th>cosine_followees</th>\n",
              "      <th>s_followees</th>\n",
              "      <th>s_followers</th>\n",
              "      <th>d_followees</th>\n",
              "      <th>d_followers</th>\n",
              "      <th>inter_followees</th>\n",
              "      <th>inter_followers</th>\n",
              "      <th>adar_index</th>\n",
              "      <th>follows_back</th>\n",
              "    </tr>\n",
              "  </thead>\n",
              "  <tbody>\n",
              "    <tr>\n",
              "      <th>0</th>\n",
              "      <td>1209596</td>\n",
              "      <td>914101</td>\n",
              "      <td>1</td>\n",
              "      <td>0.0</td>\n",
              "      <td>0.0</td>\n",
              "      <td>0</td>\n",
              "      <td>0</td>\n",
              "      <td>3</td>\n",
              "      <td>3</td>\n",
              "      <td>2</td>\n",
              "      <td>2</td>\n",
              "      <td>0</td>\n",
              "      <td>0</td>\n",
              "      <td>0.0</td>\n",
              "      <td>0</td>\n",
              "    </tr>\n",
              "    <tr>\n",
              "      <th>1</th>\n",
              "      <td>1297299</td>\n",
              "      <td>944694</td>\n",
              "      <td>1</td>\n",
              "      <td>0.0</td>\n",
              "      <td>0.0</td>\n",
              "      <td>0</td>\n",
              "      <td>0</td>\n",
              "      <td>9</td>\n",
              "      <td>10</td>\n",
              "      <td>3</td>\n",
              "      <td>5</td>\n",
              "      <td>0</td>\n",
              "      <td>0</td>\n",
              "      <td>0.0</td>\n",
              "      <td>0</td>\n",
              "    </tr>\n",
              "  </tbody>\n",
              "</table>\n",
              "</div>"
            ],
            "text/plain": [
              "   source_node  destination_node  indicator_link  jaccard_followers  \\\n",
              "0      1209596            914101               1                0.0   \n",
              "1      1297299            944694               1                0.0   \n",
              "\n",
              "   jaccard_followees  cosine_followers  cosine_followees  s_followees  \\\n",
              "0                0.0                 0                 0            3   \n",
              "1                0.0                 0                 0            9   \n",
              "\n",
              "   s_followers  d_followees  d_followers  inter_followees  inter_followers  \\\n",
              "0            3            2            2                0                0   \n",
              "1           10            3            5                0                0   \n",
              "\n",
              "   adar_index  follows_back  \n",
              "0         0.0             0  \n",
              "1         0.0             0  "
            ]
          },
          "metadata": {
            "tags": []
          },
          "execution_count": 11
        }
      ]
    },
    {
      "cell_type": "code",
      "metadata": {
        "id": "70c30e95",
        "outputId": "1e672fc1-17fe-47f2-94b6-fdfa0ecc6467"
      },
      "source": [
        "train_df_fin= read_hdf('/home/satya_anuragh/storage_sample_stage1.h5', 'train_df',mode='r')\n",
        "test_df_fin= read_hdf('/home/satya_anuragh/storage_sample_stage1.h5', 'test_df',mode='r')"
      ],
      "id": "70c30e95",
      "execution_count": null,
      "outputs": [
        {
          "output_type": "execute_result",
          "data": {
            "text/plain": [
              "4032"
            ]
          },
          "metadata": {
            "tags": []
          },
          "execution_count": 15
        }
      ]
    },
    {
      "cell_type": "code",
      "metadata": {
        "id": "6be1751c"
      },
      "source": [
        "weight_in={}\n",
        "weight_out={}\n",
        "\n",
        "for i in tqdm(train_graph.nodes()):\n",
        "    s1=set(train_graph.predecessors(i))\n",
        "    w1= 1.0/sqrt(1+len(s1))\n",
        "    weight_in[i]= w1\n",
        "    \n",
        "    s2= set(train_graph.successors(i))\n",
        "    w2= 1.0/sqrt(1+len(s2))\n",
        "    weight_out[i]= w2\n",
        "\n",
        "mean_weight_in= np.mean(list(weight_in.values()))\n",
        "mean_weight_out= np.mean(list(weight_out.values()))\n"
      ],
      "id": "6be1751c",
      "execution_count": null,
      "outputs": []
    },
    {
      "cell_type": "code",
      "metadata": {
        "id": "9eefeb97"
      },
      "source": [
        "train_df_fin['weight_in'] = train_df_fin.destination_node.apply(lambda x: Weight_in.get(x,mean_weight_in))\n",
        "train_df_fin['weight_out'] = train_df_fin.source_node.apply(lambda x: Weight_out.get(x,mean_weight_out))\n",
        "\n",
        "test_df_fin['weight_in'] = test_df_fin.destination_node.apply(lambda x: Weight_in.get(x,mean_weight_in))\n",
        "test_df_fin['weight_out'] = test_df_fin.source_node.apply(lambda x: Weight_out.get(x,mean_weight_out))\n",
        "\n",
        "train_df_fin['weight_f1'] = train_df_fin.weight_in + train_df_fin.weight_out\n",
        "train_df_fin['weight_f2'] = train_df_fin.weight_in * train_df_fin.weight_out\n",
        "train_df_fin['weight_f3'] = (2*train_df_fin.weight_in + 1*train_df_fin.weight_out)\n",
        "train_df_fin['weight_f4'] = (1*train_df_fin.weight_in + 2*train_df_fin.weight_out)\n",
        "\n",
        "test_df_fin['weight_f1'] = test_df_fin.weight_in + test_df_fin.weight_out\n",
        "test_df_fin['weight_f2'] = test_df_fin.weight_in * test_df_fin.weight_out\n",
        "test_df_fin['weight_f3'] = (2*test_df_fin.weight_in + 1*test_df_fin.weight_out)\n",
        "test_df_fin['weight_f4'] = (1*test_df_fin.weight_in + 2*test_df_fin.weight_out)"
      ],
      "id": "9eefeb97",
      "execution_count": null,
      "outputs": []
    },
    {
      "cell_type": "code",
      "metadata": {
        "id": "21d0e9d9"
      },
      "source": [
        "train_df_fin['page_rank_s'] = train_df_fin.source_node.apply(lambda x:pr.get(x,mean_pr))\n",
        "train_df_fin['page_rank_d'] = train_df_fin.destination_node.apply(lambda x:pr.get(x,mean_pr))\n",
        "\n",
        "test_df_fin['page_rank_s'] = test_df_fin.source_node.apply(lambda x:pr.get(x,mean_pr))\n",
        "test_df_fin['page_rank_d'] = test_df_fin.destination_node.apply(lambda x:pr.get(x,mean_pr))\n",
        "    \n",
        "train_df_fin['katz_s'] = train_df_fin.source_node.apply(lambda x: katz.get(x,mean_katz))\n",
        "train_df_fin['katz_d'] = train_df_fin.destination_node.apply(lambda x: katz.get(x,mean_katz))\n",
        "\n",
        "df_final_test['katz_s'] = df_final_test.source_node.apply(lambda x: katz.get(x,mean_katz))\n",
        "df_final_test['katz_d'] = df_final_test.destination_node.apply(lambda x: katz.get(x,mean_katz))\n",
        "    \n",
        "train_df_fin['hubs_s'] = train_df_fin.source_node.apply(lambda x: hits[0].get(x,0))\n",
        "train_df_fin['hubs_d'] = train_df_fin.destination_node.apply(lambda x: hits[0].get(x,0))\n",
        "\n",
        "test_df_fin['hubs_s'] = test_df_fin.source_node.apply(lambda x: hits[0].get(x,0))\n",
        "test_df_fin['hubs_d'] = test_df_fin.destination_node.apply(lambda x: hits[0].get(x,0))\n",
        "    \n",
        "test_df_fin['authorities_s'] = test_df_fin.source_node.apply(lambda x: hits[1].get(x,0))\n",
        "test_df_fin['authorities_d'] = test_df_fin.destination_node.apply(lambda x: hits[1].get(x,0))\n",
        "\n",
        "test_df_fin['authorities_s'] = test_df_fin.source_node.apply(lambda x: hits[1].get(x,0))\n",
        "test_df_fin['authorities_d'] = test_df_fin.destination_node.apply(lambda x: hits[1].get(x,0))\n",
        "\n",
        "hdf = HDFStore('/home/satya_anuragh/storage_sample_stage3.h5')\n",
        "hdf.put('train_df',df_final_train, format='table', data_columns=True)\n",
        "hdf.put('test_df',df_final_test, format='table', data_columns=True)\n",
        "hdf.close()"
      ],
      "id": "21d0e9d9",
      "execution_count": null,
      "outputs": []
    },
    {
      "cell_type": "code",
      "metadata": {
        "id": "c2bb0c91"
      },
      "source": [
        "train_df_fin = read_hdf('/home/satya_anuragh/storage_sample_stage3.h5', 'train_df',mode='r')\n",
        "test_df_fin = read_hdf('/home/satya_anuragh/storage_sample_stage3.h5', 'test_df',mode='r')"
      ],
      "id": "c2bb0c91",
      "execution_count": null,
      "outputs": []
    },
    {
      "cell_type": "code",
      "metadata": {
        "id": "5aacb2f5",
        "outputId": "fc68c6ca-4d64-4ed6-c9ee-0e51862a0649"
      },
      "source": [
        "train_df_fin.head(2)"
      ],
      "id": "5aacb2f5",
      "execution_count": null,
      "outputs": [
        {
          "output_type": "execute_result",
          "data": {
            "text/html": [
              "<div>\n",
              "<style scoped>\n",
              "    .dataframe tbody tr th:only-of-type {\n",
              "        vertical-align: middle;\n",
              "    }\n",
              "\n",
              "    .dataframe tbody tr th {\n",
              "        vertical-align: top;\n",
              "    }\n",
              "\n",
              "    .dataframe thead th {\n",
              "        text-align: right;\n",
              "    }\n",
              "</style>\n",
              "<table border=\"1\" class=\"dataframe\">\n",
              "  <thead>\n",
              "    <tr style=\"text-align: right;\">\n",
              "      <th></th>\n",
              "      <th>source_node</th>\n",
              "      <th>destination_node</th>\n",
              "      <th>indicator_link</th>\n",
              "      <th>jaccard_followers</th>\n",
              "      <th>jaccard_followees</th>\n",
              "      <th>cosine_followers</th>\n",
              "      <th>cosine_followees</th>\n",
              "      <th>num_followers_s</th>\n",
              "      <th>num_followees_s</th>\n",
              "      <th>num_followees_d</th>\n",
              "      <th>...</th>\n",
              "      <th>weight_f3</th>\n",
              "      <th>weight_f4</th>\n",
              "      <th>page_rank_s</th>\n",
              "      <th>page_rank_d</th>\n",
              "      <th>katz_s</th>\n",
              "      <th>katz_d</th>\n",
              "      <th>hubs_s</th>\n",
              "      <th>hubs_d</th>\n",
              "      <th>authorities_s</th>\n",
              "      <th>authorities_d</th>\n",
              "    </tr>\n",
              "  </thead>\n",
              "  <tbody>\n",
              "    <tr>\n",
              "      <th>0</th>\n",
              "      <td>273084</td>\n",
              "      <td>1505602</td>\n",
              "      <td>1</td>\n",
              "      <td>0</td>\n",
              "      <td>0.000000</td>\n",
              "      <td>0.000000</td>\n",
              "      <td>0.000000</td>\n",
              "      <td>6</td>\n",
              "      <td>15</td>\n",
              "      <td>8</td>\n",
              "      <td>...</td>\n",
              "      <td>1.005929</td>\n",
              "      <td>0.877964</td>\n",
              "      <td>2.045290e-06</td>\n",
              "      <td>3.459963e-07</td>\n",
              "      <td>0.000773</td>\n",
              "      <td>0.000756</td>\n",
              "      <td>1.943132e-13</td>\n",
              "      <td>1.941103e-13</td>\n",
              "      <td>9.226339e-16</td>\n",
              "      <td>2.231877e-15</td>\n",
              "    </tr>\n",
              "    <tr>\n",
              "      <th>1</th>\n",
              "      <td>832016</td>\n",
              "      <td>1543415</td>\n",
              "      <td>1</td>\n",
              "      <td>0</td>\n",
              "      <td>0.187135</td>\n",
              "      <td>0.028382</td>\n",
              "      <td>0.343828</td>\n",
              "      <td>94</td>\n",
              "      <td>61</td>\n",
              "      <td>142</td>\n",
              "      <td>...</td>\n",
              "      <td>0.332196</td>\n",
              "      <td>0.356598</td>\n",
              "      <td>2.353458e-07</td>\n",
              "      <td>6.427660e-07</td>\n",
              "      <td>0.000845</td>\n",
              "      <td>0.001317</td>\n",
              "      <td>3.906648e-11</td>\n",
              "      <td>9.424102e-11</td>\n",
              "      <td>1.208074e-11</td>\n",
              "      <td>1.273080e-10</td>\n",
              "    </tr>\n",
              "  </tbody>\n",
              "</table>\n",
              "<p>2 rows × 30 columns</p>\n",
              "</div>"
            ],
            "text/plain": [
              "   source_node  destination_node  indicator_link  jaccard_followers  \\\n",
              "0       273084           1505602               1                  0   \n",
              "1       832016           1543415               1                  0   \n",
              "\n",
              "   jaccard_followees  cosine_followers  cosine_followees  num_followers_s  \\\n",
              "0           0.000000          0.000000          0.000000                6   \n",
              "1           0.187135          0.028382          0.343828               94   \n",
              "\n",
              "   num_followees_s  num_followees_d  ...  weight_f3  weight_f4   page_rank_s  \\\n",
              "0               15                8  ...   1.005929   0.877964  2.045290e-06   \n",
              "1               61              142  ...   0.332196   0.356598  2.353458e-07   \n",
              "\n",
              "    page_rank_d    katz_s    katz_d        hubs_s        hubs_d  \\\n",
              "0  3.459963e-07  0.000773  0.000756  1.943132e-13  1.941103e-13   \n",
              "1  6.427660e-07  0.000845  0.001317  3.906648e-11  9.424102e-11   \n",
              "\n",
              "   authorities_s  authorities_d  \n",
              "0   9.226339e-16   2.231877e-15  \n",
              "1   1.208074e-11   1.273080e-10  \n",
              "\n",
              "[2 rows x 30 columns]"
            ]
          },
          "metadata": {
            "tags": []
          },
          "execution_count": 6
        }
      ]
    },
    {
      "cell_type": "markdown",
      "metadata": {
        "id": "2998MpWMokTd"
      },
      "source": [
        "## Creating an Adjacency Matrix and breaking into SVD Components"
      ],
      "id": "2998MpWMokTd"
    },
    {
      "cell_type": "code",
      "metadata": {
        "id": "0298cb6e"
      },
      "source": [
        "sadj_col= sorted(train_graph.nodes())\n",
        "sadj_dict={}\n",
        "for idx,val in enumerate(sadj_col):\n",
        "    sadj_dict[val]=idx"
      ],
      "id": "0298cb6e",
      "execution_count": null,
      "outputs": []
    },
    {
      "cell_type": "code",
      "metadata": {
        "id": "9de26d8c"
      },
      "source": [
        "def svd(x, S):\n",
        "    try:\n",
        "        z = sadj_dict[x]\n",
        "        return S[z]\n",
        "    except:\n",
        "        return [0,0,0,0,0,0]"
      ],
      "id": "9de26d8c",
      "execution_count": null,
      "outputs": []
    },
    {
      "cell_type": "code",
      "metadata": {
        "id": "287c7413"
      },
      "source": [
        "Adj = nx.adjacency_matrix(train_graph,nodelist=sorted(train_graph.nodes())).asfptype()"
      ],
      "id": "287c7413",
      "execution_count": null,
      "outputs": []
    },
    {
      "cell_type": "code",
      "metadata": {
        "id": "a3144d06",
        "outputId": "97b5f5d1-1613-4071-c764-21d5975363b9"
      },
      "source": [
        "U, s, V = svds(Adj, k = 6)\n",
        "print('Adjacency matrix Shape',Adj.shape)\n",
        "print('U Shape',U.shape)\n",
        "print('V Shape',V.shape)\n",
        "print('s Shape',s.shape)"
      ],
      "id": "a3144d06",
      "execution_count": null,
      "outputs": [
        {
          "output_type": "stream",
          "text": [
            "Adjacency matrix Shape (1862167, 1862167)\n",
            "U Shape (1862167, 6)\n",
            "V Shape (6, 1862167)\n",
            "s Shape (6,)\n"
          ],
          "name": "stdout"
        }
      ]
    },
    {
      "cell_type": "code",
      "metadata": {
        "id": "a292c2cf"
      },
      "source": [
        "#source:https://github.com/Raman-Raje/Facebook-Friend-Recommendation-using-Graph-Mining/blob/master/raman.shinde15@gmail.com_23.ipynb\n",
        "train_df_fin[['svd_u_s_1', 'svd_u_s_2','svd_u_s_3', 'svd_u_s_4', 'svd_u_s_5', 'svd_u_s_6']] = \\\n",
        "train_df_fin.source_node.apply(lambda x: svd(x, U)).apply(pd.Series)\n",
        "    \n",
        "train_df_fin[['svd_u_d_1', 'svd_u_d_2', 'svd_u_d_3', 'svd_u_d_4', 'svd_u_d_5','svd_u_d_6']] = \\\n",
        "train_df_fin.destination_node.apply(lambda x: svd(x, U)).apply(pd.Series)\n",
        "    \n",
        "train_df_fin[['svd_v_s_1','svd_v_s_2', 'svd_v_s_3', 'svd_v_s_4', 'svd_v_s_5', 'svd_v_s_6',]] = \\\n",
        "train_df_fin.source_node.apply(lambda x: svd(x, V.T)).apply(pd.Series)\n",
        "\n",
        "train_df_fin[['svd_v_d_1', 'svd_v_d_2', 'svd_v_d_3', 'svd_v_d_4', 'svd_v_d_5','svd_v_d_6']] = \\\n",
        "train_df_fin.destination_node.apply(lambda x: svd(x, V.T)).apply(pd.Series)\n",
        "    \n",
        "test_df_fin[['svd_u_s_1', 'svd_u_s_2','svd_u_s_3', 'svd_u_s_4', 'svd_u_s_5', 'svd_u_s_6']] = \\\n",
        "test_df_fin.source_node.apply(lambda x: svd(x, U)).apply(pd.Series)\n",
        "    \n",
        "test_df_fin[['svd_u_d_1', 'svd_u_d_2', 'svd_u_d_3', 'svd_u_d_4', 'svd_u_d_5','svd_u_d_6']] = \\\n",
        "test_df_fin.destination_node.apply(lambda x: svd(x, U)).apply(pd.Series)\n",
        "    \n",
        "test_df_fin[['svd_v_s_1','svd_v_s_2', 'svd_v_s_3', 'svd_v_s_4', 'svd_v_s_5', 'svd_v_s_6',]] = \\\n",
        "test_df_fin.source_node.apply(lambda x: svd(x, V.T)).apply(pd.Series)\n",
        "\n",
        "test_df_fin[['svd_v_d_1', 'svd_v_d_2', 'svd_v_d_3', 'svd_v_d_4', 'svd_v_d_5','svd_v_d_6']] = \\\n",
        "test_df_fin.destination_node.apply(lambda x: svd(x, V.T)).apply(pd.Series)"
      ],
      "id": "a292c2cf",
      "execution_count": null,
      "outputs": []
    },
    {
      "cell_type": "code",
      "metadata": {
        "id": "aafcf86b"
      },
      "source": [
        "train_df_fin = read_hdf('/home/satya_anuragh/storage_sample_stage4.h5', 'train_df',mode='r')\n",
        "test_df_fin = read_hdf('/home/satya_anuragh/storage_sample_stage4.h5', 'test_df',mode='r')"
      ],
      "id": "aafcf86b",
      "execution_count": null,
      "outputs": []
    },
    {
      "cell_type": "code",
      "metadata": {
        "id": "b822bf85",
        "outputId": "2f2643bb-107b-4986-9627-d8c380cab02d"
      },
      "source": [
        "train_df_fin.columns"
      ],
      "id": "b822bf85",
      "execution_count": null,
      "outputs": [
        {
          "output_type": "execute_result",
          "data": {
            "text/plain": [
              "Index(['source_node', 'destination_node', 'indicator_link',\n",
              "       'jaccard_followers', 'jaccard_followees', 'cosine_followers',\n",
              "       'cosine_followees', 'num_followers_s', 'num_followees_s',\n",
              "       'num_followees_d', 'inter_followers', 'inter_followees', 'adar_index',\n",
              "       'follows_back', 'same_comp', 'shortest_path', 'weight_in', 'weight_out',\n",
              "       'weight_f1', 'weight_f2', 'weight_f3', 'weight_f4', 'page_rank_s',\n",
              "       'page_rank_d', 'katz_s', 'katz_d', 'hubs_s', 'hubs_d', 'authorities_s',\n",
              "       'authorities_d', 'svd_u_s_1', 'svd_u_s_2', 'svd_u_s_3', 'svd_u_s_4',\n",
              "       'svd_u_s_5', 'svd_u_s_6', 'svd_u_d_1', 'svd_u_d_2', 'svd_u_d_3',\n",
              "       'svd_u_d_4', 'svd_u_d_5', 'svd_u_d_6', 'svd_v_s_1', 'svd_v_s_2',\n",
              "       'svd_v_s_3', 'svd_v_s_4', 'svd_v_s_5', 'svd_v_s_6', 'svd_v_d_1',\n",
              "       'svd_v_d_2', 'svd_v_d_3', 'svd_v_d_4', 'svd_v_d_5', 'svd_v_d_6'],\n",
              "      dtype='object')"
            ]
          },
          "metadata": {
            "tags": []
          },
          "execution_count": 20
        }
      ]
    },
    {
      "cell_type": "code",
      "metadata": {
        "id": "648dec7b"
      },
      "source": [
        ""
      ],
      "id": "648dec7b",
      "execution_count": null,
      "outputs": []
    },
    {
      "cell_type": "markdown",
      "metadata": {
        "id": "0GWyTEHuocor"
      },
      "source": [
        "## **Preferential Attachment**"
      ],
      "id": "0GWyTEHuocor"
    },
    {
      "cell_type": "code",
      "metadata": {
        "id": "737beb8f"
      },
      "source": [
        "#source:https://github.com/Raman-Raje/Facebook-Friend-Recommendation-using-Graph-Mining/blob/master/raman.shinde15@gmail.com_23.ipynb\n",
        "preferential_followers=[]\n",
        "for i in range(len(train_df_fin['num_followers_s'])):\n",
        "    preferential_followers.append(train_df_fin['num_followers_s'][i]*train_df_fin['num_followers_d'][i])\n",
        "train_df_fin['preferential_followers']= preferential_followers"
      ],
      "id": "737beb8f",
      "execution_count": null,
      "outputs": []
    },
    {
      "cell_type": "code",
      "metadata": {
        "id": "3dfcc3d1"
      },
      "source": [
        "preferential_followers=[]\n",
        "for i in range(len(test_df_fin['num_followers_s'])):\n",
        "    preferential_followers.append(test_df_fin['num_followers_s'][i]*test_df_fin['num_followers_d'][i])\n",
        "test_df_fin['preferential_followers']= preferential_followers"
      ],
      "id": "3dfcc3d1",
      "execution_count": null,
      "outputs": []
    },
    {
      "cell_type": "code",
      "metadata": {
        "id": "d54a060d"
      },
      "source": [
        "preferential_followees=[]\n",
        "for i in range(len(train_df_fin['num_followees_s'])):\n",
        "    preferential_followees.append(train_df_fin['num_followees_s'][i]*train_df_fin['num_followees_d'][i])\n",
        "train_df_fin['preferential_followees']= preferential_followees"
      ],
      "id": "d54a060d",
      "execution_count": null,
      "outputs": []
    },
    {
      "cell_type": "code",
      "metadata": {
        "id": "25d58a24"
      },
      "source": [
        "preferential_followees=[]\n",
        "for i in range(len(test_df_fin['num_followees_s'])):\n",
        "    preferential_followees.append(test_df_fin['num_followees_s'][i]*test_df_fin['num_followees_d'][i])\n",
        "test_df_fin['preferential_followees']= preferential_followees"
      ],
      "id": "25d58a24",
      "execution_count": null,
      "outputs": []
    },
    {
      "cell_type": "code",
      "metadata": {
        "id": "51c37168",
        "outputId": "88b8d4d1-0662-4875-e48f-e592e9c22f10"
      },
      "source": [
        "train_df_fin.head(2)"
      ],
      "id": "51c37168",
      "execution_count": null,
      "outputs": [
        {
          "output_type": "execute_result",
          "data": {
            "text/html": [
              "<div>\n",
              "<style scoped>\n",
              "    .dataframe tbody tr th:only-of-type {\n",
              "        vertical-align: middle;\n",
              "    }\n",
              "\n",
              "    .dataframe tbody tr th {\n",
              "        vertical-align: top;\n",
              "    }\n",
              "\n",
              "    .dataframe thead th {\n",
              "        text-align: right;\n",
              "    }\n",
              "</style>\n",
              "<table border=\"1\" class=\"dataframe\">\n",
              "  <thead>\n",
              "    <tr style=\"text-align: right;\">\n",
              "      <th></th>\n",
              "      <th>source_node</th>\n",
              "      <th>destination_node</th>\n",
              "      <th>indicator_link</th>\n",
              "      <th>jaccard_followers</th>\n",
              "      <th>jaccard_followees</th>\n",
              "      <th>cosine_followers</th>\n",
              "      <th>cosine_followees</th>\n",
              "      <th>num_followers_s</th>\n",
              "      <th>num_followees_s</th>\n",
              "      <th>num_followees_d</th>\n",
              "      <th>...</th>\n",
              "      <th>svd_v_s_6</th>\n",
              "      <th>svd_v_d_1</th>\n",
              "      <th>svd_v_d_2</th>\n",
              "      <th>svd_v_d_3</th>\n",
              "      <th>svd_v_d_4</th>\n",
              "      <th>svd_v_d_5</th>\n",
              "      <th>svd_v_d_6</th>\n",
              "      <th>num_followers_d</th>\n",
              "      <th>preferential_followers</th>\n",
              "      <th>preferential_followees</th>\n",
              "    </tr>\n",
              "  </thead>\n",
              "  <tbody>\n",
              "    <tr>\n",
              "      <th>0</th>\n",
              "      <td>273084</td>\n",
              "      <td>1505602</td>\n",
              "      <td>1</td>\n",
              "      <td>0</td>\n",
              "      <td>0.000000</td>\n",
              "      <td>0.000000</td>\n",
              "      <td>0.000000</td>\n",
              "      <td>6</td>\n",
              "      <td>15</td>\n",
              "      <td>8</td>\n",
              "      <td>...</td>\n",
              "      <td>1.719702e-14</td>\n",
              "      <td>-1.355368e-12</td>\n",
              "      <td>4.675307e-13</td>\n",
              "      <td>1.128591e-06</td>\n",
              "      <td>6.616550e-14</td>\n",
              "      <td>9.771077e-13</td>\n",
              "      <td>4.159752e-14</td>\n",
              "      <td>9</td>\n",
              "      <td>54</td>\n",
              "      <td>120</td>\n",
              "    </tr>\n",
              "    <tr>\n",
              "      <th>1</th>\n",
              "      <td>832016</td>\n",
              "      <td>1543415</td>\n",
              "      <td>1</td>\n",
              "      <td>0</td>\n",
              "      <td>0.187135</td>\n",
              "      <td>0.028382</td>\n",
              "      <td>0.343828</td>\n",
              "      <td>94</td>\n",
              "      <td>61</td>\n",
              "      <td>142</td>\n",
              "      <td>...</td>\n",
              "      <td>2.251737e-10</td>\n",
              "      <td>1.245101e-12</td>\n",
              "      <td>-1.636948e-10</td>\n",
              "      <td>-3.112650e-10</td>\n",
              "      <td>6.738902e-02</td>\n",
              "      <td>2.607801e-11</td>\n",
              "      <td>2.372904e-09</td>\n",
              "      <td>78</td>\n",
              "      <td>7332</td>\n",
              "      <td>8662</td>\n",
              "    </tr>\n",
              "  </tbody>\n",
              "</table>\n",
              "<p>2 rows × 57 columns</p>\n",
              "</div>"
            ],
            "text/plain": [
              "   source_node  destination_node  indicator_link  jaccard_followers  \\\n",
              "0       273084           1505602               1                  0   \n",
              "1       832016           1543415               1                  0   \n",
              "\n",
              "   jaccard_followees  cosine_followers  cosine_followees  num_followers_s  \\\n",
              "0           0.000000          0.000000          0.000000                6   \n",
              "1           0.187135          0.028382          0.343828               94   \n",
              "\n",
              "   num_followees_s  num_followees_d  ...     svd_v_s_6     svd_v_d_1  \\\n",
              "0               15                8  ...  1.719702e-14 -1.355368e-12   \n",
              "1               61              142  ...  2.251737e-10  1.245101e-12   \n",
              "\n",
              "      svd_v_d_2     svd_v_d_3     svd_v_d_4     svd_v_d_5     svd_v_d_6  \\\n",
              "0  4.675307e-13  1.128591e-06  6.616550e-14  9.771077e-13  4.159752e-14   \n",
              "1 -1.636948e-10 -3.112650e-10  6.738902e-02  2.607801e-11  2.372904e-09   \n",
              "\n",
              "   num_followers_d  preferential_followers  preferential_followees  \n",
              "0                9                      54                     120  \n",
              "1               78                    7332                    8662  \n",
              "\n",
              "[2 rows x 57 columns]"
            ]
          },
          "metadata": {
            "tags": []
          },
          "execution_count": 49
        }
      ]
    },
    {
      "cell_type": "markdown",
      "metadata": {
        "id": "dQfrUNgZo1tf"
      },
      "source": [
        "### Introducing an SVD Feature"
      ],
      "id": "dQfrUNgZo1tf"
    },
    {
      "cell_type": "code",
      "metadata": {
        "id": "a3ad765d"
      },
      "source": [
        "su1,su2,su3,su4,su5,su6=train_df_fin['svd_u_s_1'],train_df_fin['svd_u_s_2'],train_df_fin['svd_u_s_3'],train_df_fin['svd_u_s_4'],train_df_fin['svd_u_s_5'],train_df_fin['svd_u_s_6']\n",
        "sv1,sv2,sv3,sv4,sv5,sv6=train_df_fin['svd_v_s_1'],train_df_fin['svd_v_s_2'],train_df_fin['svd_v_s_3'],train_df_fin['svd_v_s_4'],train_df_fin['svd_v_s_5'],train_df_fin['svd_v_s_6']\n",
        "\n",
        "du1,du2,du3,du4,du5,du6=train_df_fin['svd_u_d_1'],train_df_fin['svd_u_d_2'],train_df_fin['svd_u_d_3'],train_df_fin['svd_u_d_4'],train_df_fin['svd_u_d_5'],train_df_fin['svd_u_d_6']\n",
        "dv1,dv2,dv3,dv4,dv5,dv6=train_df_fin['svd_v_d_1'],train_df_fin['svd_v_d_2'],train_df_fin['svd_v_d_3'],train_df_fin['svd_v_d_4'],train_df_fin['svd_v_d_5'],train_df_fin['svd_v_d_6']"
      ],
      "id": "a3ad765d",
      "execution_count": null,
      "outputs": []
    },
    {
      "cell_type": "code",
      "metadata": {
        "id": "ca3fe0f4",
        "outputId": "15c8ead2-f917-47fe-a28f-da6ca2ce31cb"
      },
      "source": [
        "su = np.array([su1,su2,su3,su4,su5,su6]).T\n",
        "sv = np.array([sv1,sv2,sv3,sv4,sv5,sv6]).T\n",
        "print(su.shape)\n",
        "print(sv.shape)"
      ],
      "id": "ca3fe0f4",
      "execution_count": null,
      "outputs": [
        {
          "output_type": "stream",
          "text": [
            "(100002, 6)\n",
            "(100002, 6)\n"
          ],
          "name": "stdout"
        }
      ]
    },
    {
      "cell_type": "code",
      "metadata": {
        "id": "9fa1fedd",
        "outputId": "8cc09a63-ebe9-457c-8e2b-12e3015d0123"
      },
      "source": [
        "du = np.array([du1,du2,du3,du4,du5,du6]).T\n",
        "dv = np.array([dv1,dv2,dv3,dv4,dv5,dv6]).T\n",
        "print(du.shape)\n",
        "print(dv.shape)"
      ],
      "id": "9fa1fedd",
      "execution_count": null,
      "outputs": [
        {
          "output_type": "stream",
          "text": [
            "(100002, 6)\n",
            "(100002, 6)\n"
          ],
          "name": "stdout"
        }
      ]
    },
    {
      "cell_type": "markdown",
      "metadata": {
        "id": "Qv7cQS9_uUkY"
      },
      "source": [
        "## **SVD_Dot**"
      ],
      "id": "Qv7cQS9_uUkY"
    },
    {
      "cell_type": "code",
      "metadata": {
        "id": "50fa0a03"
      },
      "source": [
        "u_dot = []\n",
        "v_dot = []\n",
        "for e in range(su.shape[0]):\n",
        "    u_dot.append(np.dot(su[e],du[e]))\n",
        "    v_dot.append(np.dot(sv[e],dv[e]))\n",
        "train_df_fin['ud_dot']=u_dot\n",
        "train_df_fin['vd_dot']=v_dot"
      ],
      "id": "50fa0a03",
      "execution_count": null,
      "outputs": []
    },
    {
      "cell_type": "code",
      "metadata": {
        "id": "a3ac9410"
      },
      "source": [
        "su1,su2,su3,su4,su5,su6=test_df_fin['svd_u_s_1'],test_df_fin['svd_u_s_2'],test_df_fin['svd_u_s_3'],test_df_fin['svd_u_s_4'],test_df_fin['svd_u_s_5'],test_df_fin['svd_u_s_6']\n",
        "sv1,sv2,sv3,sv4,sv5,sv6=test_df_fin['svd_v_s_1'],test_df_fin['svd_v_s_2'],test_df_fin['svd_v_s_3'],test_df_fin['svd_v_s_4'],test_df_fin['svd_v_s_5'],test_df_fin['svd_v_s_6']\n",
        "\n",
        "du1,du2,du3,du4,du5,du6=test_df_fin['svd_u_d_1'],test_df_fin['svd_u_d_2'],test_df_fin['svd_u_d_3'],test_df_fin['svd_u_d_4'],test_df_fin['svd_u_d_5'],test_df_fin['svd_u_d_6']\n",
        "dv1,dv2,dv3,dv4,dv5,dv6=test_df_fin['svd_v_d_1'],test_df_fin['svd_v_d_2'],test_df_fin['svd_v_d_3'],test_df_fin['svd_v_d_4'],test_df_fin['svd_v_d_5'],test_df_fin['svd_v_d_6']"
      ],
      "id": "a3ac9410",
      "execution_count": null,
      "outputs": []
    },
    {
      "cell_type": "code",
      "metadata": {
        "id": "faf8bd67"
      },
      "source": [
        "su = np.array([su1,su2,su3,su4,su5,su6]).T\n",
        "sv = np.array([sv1,sv2,sv3,sv4,sv5,sv6]).T\n",
        "\n",
        "du = np.array([du1,du2,du3,du4,du5,du6]).T\n",
        "dv = np.array([dv1,dv2,dv3,dv4,dv5,dv6]).T"
      ],
      "id": "faf8bd67",
      "execution_count": null,
      "outputs": []
    },
    {
      "cell_type": "code",
      "metadata": {
        "id": "cc9f9422"
      },
      "source": [
        "u_dot = []\n",
        "v_dot = []\n",
        "for e in range(su.shape[0]):\n",
        "    u_dot.append(np.dot(su[e],du[e]))\n",
        "    v_dot.append(np.dot(sv[e],dv[e]))\n",
        "test_df_fin['ud_dot']=u_dot\n",
        "test_df_fin['vd_dot']=v_dot"
      ],
      "id": "cc9f9422",
      "execution_count": null,
      "outputs": []
    },
    {
      "cell_type": "code",
      "metadata": {
        "id": "d6019339",
        "outputId": "ef8c0e43-87ab-4483-c98f-d8126aee35e2"
      },
      "source": [
        "train_df_fin.columns"
      ],
      "id": "d6019339",
      "execution_count": null,
      "outputs": [
        {
          "output_type": "execute_result",
          "data": {
            "text/plain": [
              "Index(['source_node', 'destination_node', 'indicator_link',\n",
              "       'jaccard_followers', 'jaccard_followees', 'cosine_followers',\n",
              "       'cosine_followees', 'num_followers_s', 'num_followees_s',\n",
              "       'num_followees_d', 'inter_followers', 'inter_followees', 'adar_index',\n",
              "       'follows_back', 'same_comp', 'shortest_path', 'weight_in', 'weight_out',\n",
              "       'weight_f1', 'weight_f2', 'weight_f3', 'weight_f4', 'page_rank_s',\n",
              "       'page_rank_d', 'katz_s', 'katz_d', 'hubs_s', 'hubs_d', 'authorities_s',\n",
              "       'authorities_d', 'svd_u_s_1', 'svd_u_s_2', 'svd_u_s_3', 'svd_u_s_4',\n",
              "       'svd_u_s_5', 'svd_u_s_6', 'svd_u_d_1', 'svd_u_d_2', 'svd_u_d_3',\n",
              "       'svd_u_d_4', 'svd_u_d_5', 'svd_u_d_6', 'svd_v_s_1', 'svd_v_s_2',\n",
              "       'svd_v_s_3', 'svd_v_s_4', 'svd_v_s_5', 'svd_v_s_6', 'svd_v_d_1',\n",
              "       'svd_v_d_2', 'svd_v_d_3', 'svd_v_d_4', 'svd_v_d_5', 'svd_v_d_6',\n",
              "       'num_followers_d', 'preferential_followers', 'preferential_followees',\n",
              "       'ud_dot', 'vd_dot'],\n",
              "      dtype='object')"
            ]
          },
          "metadata": {
            "tags": []
          },
          "execution_count": 35
        }
      ]
    },
    {
      "cell_type": "code",
      "metadata": {
        "id": "7383e8df"
      },
      "source": [
        "train_y= train_df_fin['indicator_link']\n",
        "test_y= test_df_fin['indicator_link']\n",
        "train_df_fin.drop(['indicator_link'],axis=1,inplace=True)\n",
        "test_df_fin.drop(['indicator_link'],axis=1,inplace=True)"
      ],
      "id": "7383e8df",
      "execution_count": null,
      "outputs": []
    },
    {
      "cell_type": "code",
      "metadata": {
        "id": "e7806650"
      },
      "source": [
        "hdf = HDFStore('/home/satya_anuragh/storage_sample_stage5.h5')\n",
        "hdf.put('train_df',train_df_fin, format='table', data_columns=True)\n",
        "hdf.put('test_df',test_df_fin, format='table', data_columns=True)\n",
        "hdf.close()"
      ],
      "id": "e7806650",
      "execution_count": null,
      "outputs": []
    },
    {
      "cell_type": "code",
      "metadata": {
        "id": "2df2791e"
      },
      "source": [
        "hdf_y = HDFStore('/home/satya_anuragh/storage_sample_stage_y.h5')\n",
        "hdf_y.put('train_y',train_y, format='table', data_columns=True)\n",
        "hdf_y.put('test_y',test_y, format='table', data_columns=True)\n",
        "hdf_y.close()"
      ],
      "id": "2df2791e",
      "execution_count": null,
      "outputs": []
    },
    {
      "cell_type": "code",
      "metadata": {
        "id": "7e450d6c"
      },
      "source": [
        "train_df_fin = read_hdf('/home/satya_anuragh/storage_sample_stage5.h5', 'train_df',mode='r')\n",
        "test_df_fin = read_hdf('/home/satya_anuragh/storage_sample_stage5.h5', 'test_df',mode='r')\n",
        "train_y = read_hdf('/home/satya_anuragh/storage_sample_stage_y.h5', 'train_y',mode='r')\n",
        "test_y = read_hdf('/home/satya_anuragh/storage_sample_stage_y.h5', 'test_y',mode='r')"
      ],
      "id": "7e450d6c",
      "execution_count": null,
      "outputs": []
    },
    {
      "cell_type": "code",
      "metadata": {
        "id": "9c25309a",
        "outputId": "f191b676-d133-479e-dc47-d7d7b5ee3bdc"
      },
      "source": [
        "print(train_df_fin.shape)\n",
        "print(test_df_fin.shape)\n",
        "print(train_y.shape)\n",
        "print(test_y.shape)\n",
        "print(train_df_fin.columns)\n",
        "print(test_df_fin.columns)"
      ],
      "id": "9c25309a",
      "execution_count": null,
      "outputs": [
        {
          "output_type": "stream",
          "text": [
            "(100002, 58)\n",
            "(50002, 58)\n",
            "(100002,)\n",
            "(50002,)\n",
            "Index(['source_node', 'destination_node', 'jaccard_followers',\n",
            "       'jaccard_followees', 'cosine_followers', 'cosine_followees',\n",
            "       'num_followers_s', 'num_followees_s', 'num_followees_d',\n",
            "       'inter_followers', 'inter_followees', 'adar_index', 'follows_back',\n",
            "       'same_comp', 'shortest_path', 'weight_in', 'weight_out', 'weight_f1',\n",
            "       'weight_f2', 'weight_f3', 'weight_f4', 'page_rank_s', 'page_rank_d',\n",
            "       'katz_s', 'katz_d', 'hubs_s', 'hubs_d', 'authorities_s',\n",
            "       'authorities_d', 'svd_u_s_1', 'svd_u_s_2', 'svd_u_s_3', 'svd_u_s_4',\n",
            "       'svd_u_s_5', 'svd_u_s_6', 'svd_u_d_1', 'svd_u_d_2', 'svd_u_d_3',\n",
            "       'svd_u_d_4', 'svd_u_d_5', 'svd_u_d_6', 'svd_v_s_1', 'svd_v_s_2',\n",
            "       'svd_v_s_3', 'svd_v_s_4', 'svd_v_s_5', 'svd_v_s_6', 'svd_v_d_1',\n",
            "       'svd_v_d_2', 'svd_v_d_3', 'svd_v_d_4', 'svd_v_d_5', 'svd_v_d_6',\n",
            "       'num_followers_d', 'preferential_followers', 'preferential_followees',\n",
            "       'ud_dot', 'vd_dot'],\n",
            "      dtype='object')\n",
            "Index(['source_node', 'destination_node', 'jaccard_followers',\n",
            "       'jaccard_followees', 'cosine_followers', 'cosine_followees',\n",
            "       'num_followers_s', 'num_followees_s', 'num_followees_d',\n",
            "       'inter_followers', 'inter_followees', 'adar_index', 'follows_back',\n",
            "       'same_comp', 'shortest_path', 'weight_in', 'weight_out', 'weight_f1',\n",
            "       'weight_f2', 'weight_f3', 'weight_f4', 'page_rank_s', 'page_rank_d',\n",
            "       'katz_s', 'katz_d', 'hubs_s', 'hubs_d', 'authorities_s',\n",
            "       'authorities_d', 'svd_u_s_1', 'svd_u_s_2', 'svd_u_s_3', 'svd_u_s_4',\n",
            "       'svd_u_s_5', 'svd_u_s_6', 'svd_u_d_1', 'svd_u_d_2', 'svd_u_d_3',\n",
            "       'svd_u_d_4', 'svd_u_d_5', 'svd_u_d_6', 'svd_v_s_1', 'svd_v_s_2',\n",
            "       'svd_v_s_3', 'svd_v_s_4', 'svd_v_s_5', 'svd_v_s_6', 'svd_v_d_1',\n",
            "       'svd_v_d_2', 'svd_v_d_3', 'svd_v_d_4', 'svd_v_d_5', 'svd_v_d_6',\n",
            "       'num_followers_d', 'preferential_followers', 'preferential_followees',\n",
            "       'ud_dot', 'vd_dot'],\n",
            "      dtype='object')\n"
          ],
          "name": "stdout"
        }
      ]
    },
    {
      "cell_type": "markdown",
      "metadata": {
        "id": "7fEPc345pBGK"
      },
      "source": [
        "## Confusion Matrix and Recall, Precision Matrix"
      ],
      "id": "7fEPc345pBGK"
    },
    {
      "cell_type": "code",
      "metadata": {
        "id": "effebde4"
      },
      "source": [
        "#source:https://github.com/Raman-Raje/Facebook-Friend-Recommendation-using-Graph-Mining/blob/master/raman.shinde15@gmail.com_23.ipynb\n",
        "from sklearn.metrics import confusion_matrix\n",
        "def plot_confusion_matrix(test_y, predict_y):\n",
        "    C = confusion_matrix(test_y, predict_y)\n",
        "    \n",
        "    A =(((C.T)/(C.sum(axis=1))).T)\n",
        "    \n",
        "    B =(C/C.sum(axis=0))\n",
        "    plt.figure(figsize=(20,4))\n",
        "    \n",
        "    labels = [0,1]\n",
        "    # representing A in heatmap format\n",
        "    cmap=sns.light_palette(\"blue\")\n",
        "    plt.subplot(1, 3, 1)\n",
        "    sns.heatmap(C, annot=True, cmap=cmap, fmt=\".3f\", xticklabels=labels, yticklabels=labels)\n",
        "    plt.xlabel('Predicted Class')\n",
        "    plt.ylabel('Original Class')\n",
        "    plt.title(\"Confusion matrix\")\n",
        "    \n",
        "    plt.subplot(1, 3, 2)\n",
        "    sns.heatmap(B, annot=True, cmap=cmap, fmt=\".3f\", xticklabels=labels, yticklabels=labels)\n",
        "    plt.xlabel('Predicted Class')\n",
        "    plt.ylabel('Original Class')\n",
        "    plt.title(\"Precision matrix\")\n",
        "    \n",
        "    plt.subplot(1, 3, 3)\n",
        "    # representing B in heatmap format\n",
        "    sns.heatmap(A, annot=True, cmap=cmap, fmt=\".3f\", xticklabels=labels, yticklabels=labels)\n",
        "    plt.xlabel('Predicted Class')\n",
        "    plt.ylabel('Original Class')\n",
        "    plt.title(\"Recall matrix\")\n",
        "    \n",
        "    plt.show()"
      ],
      "id": "effebde4",
      "execution_count": null,
      "outputs": []
    },
    {
      "cell_type": "code",
      "metadata": {
        "id": "920275c7",
        "outputId": "3a341d58-7182-4989-b085-ac80ceaff031"
      },
      "source": [
        "pip install xgboost"
      ],
      "id": "920275c7",
      "execution_count": null,
      "outputs": [
        {
          "output_type": "stream",
          "text": [
            "Collecting xgboost\n",
            "  Downloading xgboost-1.4.1-py3-none-manylinux2010_x86_64.whl (166.7 MB)\n",
            "\u001b[K     |████████████████████████████████| 166.7 MB 51 kB/s s eta 0:00:01   |██▊                             | 14.3 MB 4.2 MB/s eta 0:00:37\n",
            "\u001b[?25hRequirement already satisfied: scipy in /opt/conda/lib/python3.7/site-packages (from xgboost) (1.6.3)\n",
            "Requirement already satisfied: numpy in /opt/conda/lib/python3.7/site-packages (from xgboost) (1.19.5)\n",
            "Installing collected packages: xgboost\n",
            "Successfully installed xgboost-1.4.1\n",
            "Note: you may need to restart the kernel to use updated packages.\n"
          ],
          "name": "stdout"
        }
      ]
    },
    {
      "cell_type": "markdown",
      "metadata": {
        "id": "VSxE5AasujbA"
      },
      "source": [
        "## **XGBOOST (Tuning) using RandomizedSearch CV**\n"
      ],
      "id": "VSxE5AasujbA"
    },
    {
      "cell_type": "code",
      "metadata": {
        "id": "e5bf5daa",
        "outputId": "56230ac2-0398-4487-dba9-8b2157891c34"
      },
      "source": [
        "#source:https://github.com/Raman-Raje/Facebook-Friend-Recommendation-using-Graph-Mining/blob/master/raman.shinde15@gmail.com_23.ipynb\n",
        "import xgboost as xgb\n",
        "clf = xgb.XGBClassifier()\n",
        "param_dist = {\"n_estimators\":sp_randint(50,100),\"max_depth\": sp_randint(10,20)}\n",
        "model = RandomizedSearchCV(clf, param_distributions=param_dist,n_iter=5,cv=3,scoring='f1',random_state=25)\n",
        "\n",
        "\n",
        "model.fit(train_df_fin,train_y)\n",
        "print('mean test scores',model.cv_results_['mean_test_score'])\n",
        "print('mean train scores',model.cv_results_['mean_train_score'])\n",
        "print(model.best_estimator_)"
      ],
      "id": "e5bf5daa",
      "execution_count": null,
      "outputs": [
        {
          "output_type": "stream",
          "text": [
            "XGBClassifier(base_score=0.5, booster='gbtree', colsample_bylevel=1,\n",
            "              colsample_bynode=1, colsample_bytree=1, gamma=0, gpu_id=-1,\n",
            "              importance_type='gain', interaction_constraints='',\n",
            "              learning_rate=0.300000012, max_delta_step=0, max_depth=14,\n",
            "              min_child_weight=1, missing=nan, monotone_constraints='()',\n",
            "              n_estimators=75, n_jobs=4, num_parallel_tree=1, random_state=0,\n",
            "              reg_alpha=0, reg_lambda=1, scale_pos_weight=1, subsample=1,\n",
            "              tree_method='exact', validate_parameters=1, verbosity=None)\n"
          ],
          "name": "stdout"
        }
      ]
    },
    {
      "cell_type": "markdown",
      "metadata": {
        "id": "xhm_eQFHuwph"
      },
      "source": [
        "## **Fitting and Predicting using the best XGBoost Model**"
      ],
      "id": "xhm_eQFHuwph"
    },
    {
      "cell_type": "code",
      "metadata": {
        "id": "14da21f1",
        "outputId": "88b76e34-a1ab-4bd7-d152-6be6a9175452"
      },
      "source": [
        "import xgboost as xgb\n",
        "\n",
        "best_model= model.best_estimator_\n",
        "\n",
        "best_model.fit(train_df_fin,train_y)\n",
        "train_pred= best_model.predict(train_df_fin)\n",
        "test_pred= best_model.predict(test_df_fin)\n",
        "\n",
        "print('Train f1 score',f1_score(train_y,train_pred))\n",
        "print('Test f1 score',f1_score(test_y,test_pred))"
      ],
      "id": "14da21f1",
      "execution_count": null,
      "outputs": [
        {
          "output_type": "stream",
          "text": [
            "[23:39:32] WARNING: ../src/learner.cc:1095: Starting in XGBoost 1.3.0, the default evaluation metric used with the objective 'binary:logistic' was changed from 'error' to 'logloss'. Explicitly set eval_metric if you'd like to restore the old behavior.\n",
            "Train f1 score 1.0\n",
            "Test f1 score 0.9273498833015065\n"
          ],
          "name": "stdout"
        }
      ]
    },
    {
      "cell_type": "markdown",
      "metadata": {
        "id": "h49BWZIvu8Fo"
      },
      "source": [
        "### Confusion, Precision and Recall Matrix on Train Dataset"
      ],
      "id": "h49BWZIvu8Fo"
    },
    {
      "cell_type": "code",
      "metadata": {
        "id": "26941c53",
        "outputId": "57bd69ec-1aa5-48ec-a4a8-9210ab1cc828"
      },
      "source": [
        "plot_confusion_matrix(train_y, train_pred)"
      ],
      "id": "26941c53",
      "execution_count": null,
      "outputs": [
        {
          "output_type": "display_data",
          "data": {
            "image/png": "[encoded data removed]",
            "text/plain": [
              "<Figure size 1440x288 with 6 Axes>"
            ]
          },
          "metadata": {
            "tags": [],
            "needs_background": "light"
          }
        }
      ]
    },
    {
      "cell_type": "markdown",
      "metadata": {
        "id": "tPOEtr90vHlo"
      },
      "source": [
        "## Confusion, Precision and Recall Matrix on Test Dataset"
      ],
      "id": "tPOEtr90vHlo"
    },
    {
      "cell_type": "code",
      "metadata": {
        "id": "e487e063",
        "outputId": "ee58dc94-bbb0-4852-9b89-5fd80eccfb24"
      },
      "source": [
        "plot_confusion_matrix(test_y, test_pred)"
      ],
      "id": "e487e063",
      "execution_count": null,
      "outputs": [
        {
          "output_type": "display_data",
          "data": {
            "image/png": "[encoded data removed]",
            "text/plain": [
              "<Figure size 1440x288 with 6 Axes>"
            ]
          },
          "metadata": {
            "tags": [],
            "needs_background": "light"
          }
        }
      ]
    },
    {
      "cell_type": "markdown",
      "metadata": {
        "id": "mS9dQiHYjtxd"
      },
      "source": [
        "##**Summary**"
      ],
      "id": "mS9dQiHYjtxd"
    },
    {
      "cell_type": "code",
      "metadata": {
        "id": "759f9604"
      },
      "source": [
        "from prettytable import PrettyTable \n",
        "summary = PrettyTable()\n",
        "summary.field_names = [\"Model\", \"n_estimators\", \"max_depth\", \"Train f1-Score\",\"Test f1-Score\"]"
      ],
      "id": "759f9604",
      "execution_count": null,
      "outputs": []
    },
    {
      "cell_type": "code",
      "metadata": {
        "id": "3c7ae743",
        "outputId": "9dd7b7ae-53fd-4080-f463-d5abdcac143d"
      },
      "source": [
        "summary.add_row(['XGBOOST','75','14','1','0.9273'])\n",
        "print(summary)"
      ],
      "id": "3c7ae743",
      "execution_count": null,
      "outputs": [
        {
          "output_type": "stream",
          "text": [
            "+---------+--------------+-----------+----------------+---------------+\n",
            "|  Model  | n_estimators | max_depth | Train f1-Score | Test f1-Score |\n",
            "+---------+--------------+-----------+----------------+---------------+\n",
            "| XGBOOST |      75      |     14    |       1        |     0.9273    |\n",
            "+---------+--------------+-----------+----------------+---------------+\n"
          ],
          "name": "stdout"
        }
      ]
    },
    {
      "cell_type": "markdown",
      "metadata": {
        "id": "eZrQuDeXjklU"
      },
      "source": [
        "##**Procedure**"
      ],
      "id": "eZrQuDeXjklU"
    },
    {
      "cell_type": "code",
      "metadata": {
        "id": "df5da401"
      },
      "source": [
        "1. Data was obtained from kaggle, here https://www.kaggle.com/c/FacebookRecruiting\n",
        "2. The provided data has been loaded as Di-Graph data with 1.86 Mn Nodes and 9.43 Mn Edges\n",
        "3. Exploratory Data Analysis was performed and data has edges. \n",
        "4. A new column(indicator_link) has been added which signifies that the data has an edge (marked as 1)\n",
        "5. In order to balance out the dataset, more datapoints have been added. \n",
        "6. All the new datapoints are randomly selected in such a way that edges do not exist between them.\n",
        "7. New datapoints are marked as 0 in the (indicator_link) column signifying an absence of edge between the source and destination node\n",
        "8. Featurization is the most important part of this case study. We extracted various features types of features...\n",
        "   Similarity measures \n",
        "   Ranking Measure\n",
        "   Various Graph Features\n",
        "   Various Weight Features\n",
        "  SVD features using Adjancy matrix. (n_components = 6)\n",
        "9. XGBoost model was trained and the best hyperparameters were obtained through RandomizedSearchCV "
      ],
      "id": "df5da401",
      "execution_count": null,
      "outputs": []
    }
  ]
}